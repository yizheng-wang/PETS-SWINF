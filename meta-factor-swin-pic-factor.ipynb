{
 "cells": [
  {
   "cell_type": "code",
   "execution_count": 1,
   "id": "bc24069a",
   "metadata": {
    "_cell_guid": "b1076dfc-b9ad-4769-8c92-a6c4dae69d19",
    "_uuid": "8f2839f25d086af736a60e9eeb907d3b93b6e0e5",
    "execution": {
     "iopub.execute_input": "2021-12-25T01:34:25.468034Z",
     "iopub.status.busy": "2021-12-25T01:34:25.466516Z",
     "iopub.status.idle": "2021-12-25T01:34:28.582372Z",
     "shell.execute_reply": "2021-12-25T01:34:28.582855Z",
     "shell.execute_reply.started": "2021-12-25T01:31:43.120838Z"
    },
    "papermill": {
     "duration": 3.138468,
     "end_time": "2021-12-25T01:34:28.583129",
     "exception": false,
     "start_time": "2021-12-25T01:34:25.444661",
     "status": "completed"
    },
    "tags": []
   },
   "outputs": [],
   "source": [
    "import torchtext.vocab as vocab\n",
    "import torch\n",
    "import pandas as pd\n",
    "from fastai.vision.all import *"
   ]
  },
  {
   "cell_type": "code",
   "execution_count": 2,
   "id": "b0cbae58",
   "metadata": {
    "execution": {
     "iopub.execute_input": "2021-12-25T01:34:28.620331Z",
     "iopub.status.busy": "2021-12-25T01:34:28.619815Z",
     "iopub.status.idle": "2021-12-25T01:34:37.568856Z",
     "shell.execute_reply": "2021-12-25T01:34:37.568371Z",
     "shell.execute_reply.started": "2021-12-25T01:31:46.771473Z"
    },
    "papermill": {
     "duration": 8.969959,
     "end_time": "2021-12-25T01:34:37.568996",
     "exception": false,
     "start_time": "2021-12-25T01:34:28.599037",
     "status": "completed"
    },
    "tags": []
   },
   "outputs": [
    {
     "name": "stdout",
     "output_type": "stream",
     "text": [
      "Loading Glove Model\n",
      "400000 words loaded!\n"
     ]
    }
   ],
   "source": [
    "import numpy as np\n",
    "\n",
    "def load_glove_model(File):\n",
    "    print(\"Loading Glove Model\")\n",
    "    glove_model = {}\n",
    "    with open(File,'r') as f:\n",
    "        for line in f:\n",
    "            split_line = line.split()\n",
    "            word = split_line[0]\n",
    "            embedding = np.array(split_line[1:], dtype=np.float64)\n",
    "            glove_model[word] = embedding\n",
    "    print(f\"{len(glove_model)} words loaded!\")\n",
    "    return glove_model\n",
    "\n",
    "glove_model = load_glove_model('../input/glove6b/glove.6B.50d.txt')"
   ]
  },
  {
   "cell_type": "code",
   "execution_count": 3,
   "id": "75a83f3e",
   "metadata": {
    "execution": {
     "iopub.execute_input": "2021-12-25T01:34:37.608202Z",
     "iopub.status.busy": "2021-12-25T01:34:37.607644Z",
     "iopub.status.idle": "2021-12-25T01:34:40.524099Z",
     "shell.execute_reply": "2021-12-25T01:34:40.523447Z",
     "shell.execute_reply.started": "2021-12-25T01:31:56.636061Z"
    },
    "papermill": {
     "duration": 2.938842,
     "end_time": "2021-12-25T01:34:40.524244",
     "exception": false,
     "start_time": "2021-12-25T01:34:37.585402",
     "status": "completed"
    },
    "tags": []
   },
   "outputs": [],
   "source": [
    "# 首先得到所有单词的词向量表示\n",
    "metadata_glove = torch.zeros(12,50).cuda()\n",
    "metadata_glove[0] = torch.tensor(glove_model['focus'])\n",
    "metadata_glove[1] = torch.tensor(glove_model['eyes'])\n",
    "metadata_glove[2] = torch.tensor(glove_model['face'])\n",
    "metadata_glove[3] = torch.tensor(glove_model['near'])\n",
    "metadata_glove[4] = torch.tensor(glove_model['action'])\n",
    "metadata_glove[5] = torch.tensor(glove_model['accessory'])\n",
    "metadata_glove[6] = torch.tensor(glove_model['group'])\n",
    "metadata_glove[7] = torch.tensor(glove_model['collage'])\n",
    "metadata_glove[8] = torch.tensor(glove_model['human'])\n",
    "metadata_glove[9] = torch.tensor(glove_model['occlusion'])\n",
    "metadata_glove[10] = torch.tensor(glove_model['info'])\n",
    "metadata_glove[11] = torch.tensor(glove_model['blur'])"
   ]
  },
  {
   "cell_type": "code",
   "execution_count": 4,
   "id": "e04d5e18",
   "metadata": {
    "execution": {
     "iopub.execute_input": "2021-12-25T01:34:40.558471Z",
     "iopub.status.busy": "2021-12-25T01:34:40.557685Z",
     "iopub.status.idle": "2021-12-25T01:34:40.970199Z",
     "shell.execute_reply": "2021-12-25T01:34:40.969320Z",
     "shell.execute_reply.started": "2021-12-25T01:32:00.182099Z"
    },
    "papermill": {
     "duration": 0.430305,
     "end_time": "2021-12-25T01:34:40.970354",
     "exception": false,
     "start_time": "2021-12-25T01:34:40.540049",
     "status": "completed"
    },
    "tags": []
   },
   "outputs": [
    {
     "data": {
      "text/plain": [
       "<AxesSubplot:>"
      ]
     },
     "execution_count": 4,
     "metadata": {},
     "output_type": "execute_result"
    },
    {
     "data": {
      "image/png": "[encoded data removed]",
      "text/plain": [
       "<Figure size 432x288 with 1 Axes>"
      ]
     },
     "metadata": {
      "needs_background": "light"
     },
     "output_type": "display_data"
    }
   ],
   "source": [
    "BATCH_SIZE = 40\n",
    "seed=999\n",
    "set_seed(seed, reproducible=True)\n",
    "torch.manual_seed(seed)\n",
    "torch.cuda.manual_seed(seed)\n",
    "torch.backends.cudnn.deterministic = True\n",
    "torch.use_deterministic_algorithms = True\n",
    "\n",
    "train_df = pd.read_csv('../input/petfinder-pawpularity-score/train.csv')\n",
    "dataset_path = Path('../input/petfinder-pawpularity-score/')\n",
    "train_df['path'] = train_df['Id'].map(lambda x:str(dataset_path/'train'/x)+'.jpg')\n",
    "train_df = train_df.drop(columns=['Id'])\n",
    "train_df = train_df.sample(frac=1).reset_index(drop=True) #shuffle dataframe\n",
    "train_df['norm_score'] = train_df['Pawpularity']/100\n",
    "train_df['norm_score']\n",
    "#Sturges' rule\n",
    "num_bins = int(np.floor(1+(3.3)*(np.log2(len(train_df)))))\n",
    "# num_bins\n",
    "train_df['bins'] = pd.cut(train_df['norm_score'], bins=num_bins, labels=False)\n",
    "train_df['bins'].hist()\n",
    "\n"
   ]
  },
  {
   "cell_type": "code",
   "execution_count": 5,
   "id": "6b81092f",
   "metadata": {
    "execution": {
     "iopub.execute_input": "2021-12-25T01:34:41.015584Z",
     "iopub.status.busy": "2021-12-25T01:34:41.014882Z",
     "iopub.status.idle": "2021-12-25T01:34:41.249201Z",
     "shell.execute_reply": "2021-12-25T01:34:41.248682Z",
     "shell.execute_reply.started": "2021-12-25T01:32:00.665293Z"
    },
    "papermill": {
     "duration": 0.26049,
     "end_time": "2021-12-25T01:34:41.249343",
     "exception": false,
     "start_time": "2021-12-25T01:34:40.988853",
     "status": "completed"
    },
    "tags": []
   },
   "outputs": [
    {
     "data": {
      "text/plain": [
       "<AxesSubplot:>"
      ]
     },
     "execution_count": 5,
     "metadata": {},
     "output_type": "execute_result"
    },
    {
     "data": {
      "image/png": "[encoded data removed]",
      "text/plain": [
       "<Figure size 432x288 with 1 Axes>"
      ]
     },
     "metadata": {
      "needs_background": "light"
     },
     "output_type": "display_data"
    }
   ],
   "source": [
    "from sklearn.model_selection import KFold\n",
    "from sklearn.model_selection import StratifiedKFold\n",
    "\n",
    "train_df['fold'] = -1\n",
    "\n",
    "\n",
    "N_FOLDS = 10\n",
    "strat_kfold = StratifiedKFold(n_splits=N_FOLDS, random_state=seed, shuffle=True)\n",
    "for i, (_, train_index) in enumerate(strat_kfold.split(train_df.index, train_df['bins'])):\n",
    "    train_df.iloc[train_index, -1] = i\n",
    "    \n",
    "train_df['fold'] = train_df['fold'].astype('int')\n",
    "\n",
    "train_df.fold.value_counts().plot.bar()"
   ]
  },
  {
   "cell_type": "code",
   "execution_count": 6,
   "id": "a6a97f92",
   "metadata": {
    "execution": {
     "iopub.execute_input": "2021-12-25T01:34:41.292735Z",
     "iopub.status.busy": "2021-12-25T01:34:41.291893Z",
     "iopub.status.idle": "2021-12-25T01:34:41.294144Z",
     "shell.execute_reply": "2021-12-25T01:34:41.294580Z",
     "shell.execute_reply.started": "2021-12-25T01:32:00.937191Z"
    },
    "papermill": {
     "duration": 0.025797,
     "end_time": "2021-12-25T01:34:41.294719",
     "exception": false,
     "start_time": "2021-12-25T01:34:41.268922",
     "status": "completed"
    },
    "tags": []
   },
   "outputs": [],
   "source": [
    "def petfinder_rmse(input,target):\n",
    "    return 100*torch.sqrt(F.mse_loss(F.sigmoid(input.flatten()), target))"
   ]
  },
  {
   "cell_type": "code",
   "execution_count": 7,
   "id": "ca2865d6",
   "metadata": {
    "execution": {
     "iopub.execute_input": "2021-12-25T01:34:41.338937Z",
     "iopub.status.busy": "2021-12-25T01:34:41.338308Z",
     "iopub.status.idle": "2021-12-25T01:34:41.350342Z",
     "shell.execute_reply": "2021-12-25T01:34:41.350782Z",
     "shell.execute_reply.started": "2021-12-25T01:32:00.945262Z"
    },
    "papermill": {
     "duration": 0.037389,
     "end_time": "2021-12-25T01:34:41.350906",
     "exception": false,
     "start_time": "2021-12-25T01:34:41.313517",
     "status": "completed"
    },
    "tags": []
   },
   "outputs": [],
   "source": [
    "from fastai.tabular.all import *\n",
    "# 下面这个就是图片的dataloader，做一个tabular的模型\n",
    "def get_data_meta(fold):\n",
    "#     train_df_no_val = train_df.query(f'fold != {fold}')\n",
    "#     train_df_val = train_df.query(f'fold == {fold}')\n",
    "    \n",
    "#     train_df_bal = pd.concat([train_df_no_val,train_df_val.sample(frac=1).reset_index(drop=True)])\n",
    "    train_df_f = train_df.copy()\n",
    "    # add is_valid for validation fold\n",
    "    train_df_f['is_valid'] = (train_df_f['fold'] == fold)\n",
    "\n",
    "    dls = TabularDataLoaders.from_df(train_df_f, \n",
    "                                      valid_col='is_valid',\n",
    "                                      path = '../input/petfinder-pawpularity-score',\n",
    "                                      y_names=\"norm_score\", \n",
    "                                      valid_pct=0.2,\n",
    "                                      seed=seed, #seed\n",
    "                                      bs=BATCH_SIZE, \n",
    "                                      num_workers=8, \n",
    "                                      y_block=RegressionBlock,\n",
    "                                      cont_names = ['Subject Focus', 'Eyes', 'Face', 'Near', 'Action', 'Accessory',\\\n",
    "                                                    'Group', 'Collage', 'Human', 'Occlusion', 'Info', 'Blur']\n",
    "                                    )\n",
    "    \n",
    "    \n",
    "#     dls = ImageDataLoaders.from_df(train_df_f, #pass in train DataFrame\n",
    "# #                                valid_pct=0.2, #80-20 train-validation random split\n",
    "#                                valid_col='is_valid', #\n",
    "#                                seed=999, #seed\n",
    "#                                fn_col='path', #filename/path is in the second column of the DataFrame\n",
    "#                                label_col='norm_score', #label is in the first column of the DataFrame\n",
    "#                                y_block=RegressionBlock, #The type of target\n",
    "#                                bs=BATCH_SIZE, #pass in batch size\n",
    "#                                num_workers=8,\n",
    "#                                item_tfms=Resize(Image_size, resamples=(Image.BICUBIC, Image.NEAREST)), #pass in item_tfms\n",
    "#                                batch_tfms=setup_aug_tfms([Brightness(), Contrast(), Hue(), Saturation()]))    #pass in batch_tfms\n",
    "    \n",
    "    return dls"
   ]
  },
  {
   "cell_type": "code",
   "execution_count": 8,
   "id": "4c7810e9",
   "metadata": {
    "execution": {
     "iopub.execute_input": "2021-12-25T01:34:41.389316Z",
     "iopub.status.busy": "2021-12-25T01:34:41.388370Z",
     "iopub.status.idle": "2021-12-25T01:34:41.431368Z",
     "shell.execute_reply": "2021-12-25T01:34:41.431770Z",
     "shell.execute_reply.started": "2021-12-25T01:32:00.974065Z"
    },
    "papermill": {
     "duration": 0.063757,
     "end_time": "2021-12-25T01:34:41.431896",
     "exception": false,
     "start_time": "2021-12-25T01:34:41.368139",
     "status": "completed"
    },
    "tags": []
   },
   "outputs": [],
   "source": [
    "dls = get_data_meta(1)"
   ]
  },
  {
   "cell_type": "code",
   "execution_count": 9,
   "id": "72c65ed7",
   "metadata": {
    "execution": {
     "iopub.execute_input": "2021-12-25T01:34:41.470406Z",
     "iopub.status.busy": "2021-12-25T01:34:41.469880Z",
     "iopub.status.idle": "2021-12-25T01:34:41.473075Z",
     "shell.execute_reply": "2021-12-25T01:34:41.473441Z",
     "shell.execute_reply.started": "2021-12-25T01:32:01.031787Z"
    },
    "papermill": {
     "duration": 0.024626,
     "end_time": "2021-12-25T01:34:41.473583",
     "exception": false,
     "start_time": "2021-12-25T01:34:41.448957",
     "status": "completed"
    },
    "tags": []
   },
   "outputs": [],
   "source": [
    "# # metadata 放后面\n",
    "# class meta_model(Module):\n",
    "#     def __init__(self, pretrained=True):\n",
    "#         # self.model = create_model('swin_large_patch4_window7_224', pretrained=True, num_classes=1)\n",
    "#         # self.model.head = nn.Linear(self.model.head.in_features, 128) # 输入特征\n",
    "#         super().__init__()\n",
    "#         self.dropout = nn.Dropout(0.1) # dropout率\n",
    "#         self.dense1 = nn.Linear(134, 128) # 全连接层 128+6,6是超参数经过了MLP的映射\n",
    "#         self.dense2 = nn.Linear(128, 1) # 全连接层，最后弄成softmax\n",
    "#         self.dense1_meta = nn.Linear(12, 10) # 全连接层\n",
    "#         self.dense2_meta = nn.Linear(10, 1) # 全连接层\n",
    "#         # 由于是relu，加上kaiminghe的初始化\n",
    "#         torch.nn.init.normal_(self.dense1_meta.weight, mean=0, std=np.sqrt(2/12))\n",
    "#         torch.nn.init.normal_(self.dense2_meta.weight, mean=0, std=np.sqrt(2/10))\n",
    "#         torch.nn.init.normal_(self.dense1.weight, mean=0, std=np.sqrt(2/134))\n",
    "#         torch.nn.init.normal_(self.dense2.weight, mean=0, std=np.sqrt(2/128))\n",
    "#         torch.nn.init.constant_(self.dense1_meta.bias, 0.)\n",
    "#         torch.nn.init.constant_(self.dense2_meta.bias, 0.)\n",
    "#         torch.nn.init.constant_(self.dense1.bias, 0.)\n",
    "#         torch.nn.init.constant_(self.dense2.bias, 0.)\n",
    "#         self.step_scheduler_after = \"epoch\"\n",
    "#     def forward(self, features):\n",
    "#         # embedding = metadata_glove*features # 获得embedding结果，如果是0，就是zeros\n",
    "# #         x = self.dense1(features)\n",
    "# #         meta_MLP = self.dense1_meta(features)\n",
    "# #         meta_MLP = nn.functional.relu(meta_MLP)\n",
    "# #         meta_MLP = self.dense2_meta(meta_MLP)\n",
    "# #         meta_MLP = nn.functional.relu(meta_MLP)\n",
    "# #         x = torch.cat([x, meta_MLP], dim=1) # 将超数据与文字数据通过全连接层的隐藏层进行了链接\n",
    "#         x = self.dense1_meta(features) # 全连接进行输出\n",
    "#         x = nn.functional.relu(x)\n",
    "#         x = self.dense2_meta(x)\n",
    "#         return x"
   ]
  },
  {
   "cell_type": "code",
   "execution_count": 10,
   "id": "46e4b58a",
   "metadata": {
    "execution": {
     "iopub.execute_input": "2021-12-25T01:34:41.523235Z",
     "iopub.status.busy": "2021-12-25T01:34:41.521646Z",
     "iopub.status.idle": "2021-12-25T01:34:41.523822Z",
     "shell.execute_reply": "2021-12-25T01:34:41.524218Z",
     "shell.execute_reply.started": "2021-12-25T01:32:01.045515Z"
    },
    "papermill": {
     "duration": 0.033747,
     "end_time": "2021-12-25T01:34:41.524329",
     "exception": false,
     "start_time": "2021-12-25T01:34:41.490582",
     "status": "completed"
    },
    "tags": []
   },
   "outputs": [],
   "source": [
    "import torch.nn as nn\n",
    "import torch\n",
    "# class PawpularModel_meta(nn.Module):\n",
    "#     def __init__(self, model_name='swin_large_patch4_window7_224', num_classes=[12,1],\n",
    "#                  n_meta_dim=[256, 128], pretrained=True):\n",
    "#         super().__init__()\n",
    "#         out_dim=num_classes[1] # 输出1\n",
    "#         n_meta_features=num_classes[0] # meta维度 17\n",
    "#         self.n_meta_features = n_meta_features\n",
    "#         # self.enet = create_model(model_name, pretrained=True, in_chans=3) # 这里没有标准化，输出是维度是1536\n",
    "#         self.dropouts = nn.ModuleList([\n",
    "#             nn.Dropout(0.5) for _ in range(5)\n",
    "#         ])\n",
    "#         # in_ch = self.enet.head.in_features # 768*2=1536维度\n",
    "#         if n_meta_features > 0:\n",
    "#             self.meta = nn.Sequential(\n",
    "#                 nn.Linear(n_meta_features, n_meta_dim[0]), # 17 到 256维度\n",
    "#                 nn.BatchNorm1d(n_meta_dim[0]), # norm操作 维度256\n",
    "#                 nn.SiLU(), # 激活函数\n",
    "#                 nn.Dropout(p=0.3), # drop0.3\n",
    "#                 nn.Linear(n_meta_dim[0], n_meta_dim[1]), # 256 到 128 维度\n",
    "#                 nn.BatchNorm1d(n_meta_dim[1]), # norm操作 维度128\n",
    "#                 nn.SiLU(), # 激活函数\n",
    "#             )\n",
    "            \n",
    "#             #in_ch += n_meta_dim[1] # 128+768*2维度，将meta拼接到前面\n",
    "#             # print('in_ch is ' + str(in_ch))\n",
    "#         self.myfc = nn.Linear(n_meta_dim[1], out_dim) # 1664到1\n",
    "#         # self.enet.head = nn.Identity()\n",
    "\n",
    "# #     def extract(self, x):\n",
    "# #         x = self.enet(x) # 输出768*2\n",
    "# #         #print(x.shape)\n",
    "# #         return x\n",
    "\n",
    "#     def forward(self, ff, features):\n",
    "#         #print(features)\n",
    "#         #print(ff)\n",
    "#         x_meta = self.meta(features) # meta输入，得到128维度\n",
    "#         out = self.myfc(x_meta)\n",
    "        \n",
    "# #         x = self.extract(image).squeeze(-1).squeeze(-1) # 用swin输出得到1536\n",
    "# #         #print(x.shape) #1536=768*2\n",
    "# #         if self.n_meta_features > 0:\n",
    "# #             x_meta = self.meta(features) # meta输入，得到128维度\n",
    "# #             x = torch.cat((x, x_meta), dim=1) # 将meta和swin拼接起来 128+1536 = 1664\n",
    "# #         for i, dropout in enumerate(self.dropouts):\n",
    "# #             if i == 0:\n",
    "# #                 out = self.myfc(dropout(x))\n",
    "# #             else:\n",
    "# #                 out += self.myfc(dropout(x)) # 相当于将1664同时经过了5个全连接，然后求和，这里是串行的程序，可以修改为并行，将输出设定为5维，然后再从5维到1维\n",
    "# #         out /= len(self.dropouts) # 求一个平均，没什么意义，我将1664到1维的权重学习为原来的五分之一就可以达到一样的效果\n",
    "#         return out\n",
    "class PawpularModel_meta(nn.Module):\n",
    "    def __init__(self, model_name='swin_large_patch4_window7_224', num_classes=[12,1], reduction_dim = 5,\n",
    "                 n_meta_dim=[256, 128], pretrained=True):\n",
    "        super().__init__()\n",
    "        out_dim=num_classes[1] # 输出1\n",
    "        n_meta_features=num_classes[0] # meta维度 17\n",
    "        self.reduce_d = nn.Linear(50, reduction_dim) # embedding降维到5 \n",
    "        self.meta_order1 = nn.Linear(432+60, 100)\n",
    "        self.meta_order2 = nn.Linear(100, 10)\n",
    "        self.meta_order3 = nn.Linear(10, 1)\n",
    "        self.dropout = nn.Dropout(0.5)\n",
    "\n",
    "\n",
    "\n",
    "\n",
    "        # self.n_meta_features = n_meta_features\n",
    "        # # self.enet = create_model(model_name, pretrained=True, in_chans=3) # 这里没有标准化，输出是维度是1536\n",
    "        # self.dropouts = nn.ModuleList([\n",
    "        #     nn.Dropout(0.5) for _ in range(5)\n",
    "        # ])\n",
    "        # # in_ch = self.enet.head.in_features # 768*2=1536维度\n",
    "        # if n_meta_features > 0:\n",
    "        #     self.meta = nn.Sequential(\n",
    "        #         nn.Linear(n_meta_features, n_meta_dim[0]), # 17 到 256维度\n",
    "        #         nn.BatchNorm1d(n_meta_dim[0]), # norm操作 维度256\n",
    "        #         nn.SiLU(), # 激活函数\n",
    "        #         nn.Dropout(p=0.3), # drop0.3\n",
    "        #         nn.Linear(n_meta_dim[0], n_meta_dim[1]), # 256 到 128 维度\n",
    "        #         nn.BatchNorm1d(n_meta_dim[1]), # norm操作 维度128\n",
    "        #         nn.SiLU(), # 激活函数\n",
    "        #     )\n",
    "            \n",
    "        #     #in_ch += n_meta_dim[1] # 128+768*2维度，将meta拼接到前面\n",
    "        #     # print('in_ch is ' + str(in_ch))\n",
    "        # self.myfc = nn.Linear(n_meta_dim[1], out_dim) # 1664到1\n",
    "        # self.enet.head = nn.Identity()\n",
    "\n",
    "#     def extract(self, x):\n",
    "#         x = self.enet(x) # 输出768*2\n",
    "#         #print(x.shape)\n",
    "#         return x\n",
    "\n",
    "    def forward(self, ff, features):\n",
    "        #print(features)\n",
    "        #print(ff)\n",
    "        embed = torch.zeros(BATCH_SIZE, *metadata_glove.shape).cuda()\n",
    "        for idx, eve_feature in enumerate(features):\n",
    "            embed[idx] = (eve_feature*metadata_glove.T).T\n",
    "        embed_reduce = self.reduce_d(embed) # 获得了降维的tensor\n",
    "        embed_norm = torch.norm(embed_reduce, dim=2)\n",
    "        embed_norm = embed_norm.unsqueeze(2)\n",
    "        embed_reduce = embed_reduce/embed_norm # 获得归一化的降维的向量\n",
    "        #embed_reduce = embed\n",
    "        dot_result = torch.bmm(embed_reduce, embed_reduce.permute(0,2,1)).reshape(BATCH_SIZE, -1)\n",
    "        dot_tanh = torch.tanh(dot_result) \n",
    "        dot_relu = torch.relu(dot_result) \n",
    "        dot_sig = torch.sigmoid(dot_result) \n",
    "        \n",
    "        hig_order = torch.cat([dot_tanh, dot_relu, dot_sig], 1)\n",
    "        all_order = torch.cat([embed_reduce.reshape(BATCH_SIZE, -1), hig_order], 1)\n",
    "        \n",
    "        out1 = self.meta_order1(self.dropout(all_order))\n",
    "        out2 = self.meta_order2(self.dropout(out1))\n",
    "        out3 = self.meta_order3(self.dropout(out2))\n",
    "#         x = self.extract(image).squeeze(-1).squeeze(-1) # 用swin输出得到1536\n",
    "#         #print(x.shape) #1536=768*2\n",
    "#         if self.n_meta_features > 0:\n",
    "#             x_meta = self.meta(features) # meta输入，得到128维度\n",
    "#             x = torch.cat((x, x_meta), dim=1) # 将meta和swin拼接起来 128+1536 = 1664\n",
    "#         for i, dropout in enumerate(self.dropouts):\n",
    "#             if i == 0:\n",
    "#                 out = self.myfc(dropout(x))\n",
    "#             else:\n",
    "#                 out += self.myfc(dropout(x)) # 相当于将1664同时经过了5个全连接，然后求和，这里是串行的程序，可以修改为并行，将输出设定为5维，然后再从5维到1维\n",
    "#         out /= len(self.dropouts) # 求一个平均，没什么意义，我将1664到1维的权重学习为原来的五分之一就可以达到一样的效果\n",
    "        return out3"
   ]
  },
  {
   "cell_type": "code",
   "execution_count": 11,
   "id": "059a77a7",
   "metadata": {
    "execution": {
     "iopub.execute_input": "2021-12-25T01:34:41.564134Z",
     "iopub.status.busy": "2021-12-25T01:34:41.562621Z",
     "iopub.status.idle": "2021-12-25T01:34:41.564736Z",
     "shell.execute_reply": "2021-12-25T01:34:41.565138Z",
     "shell.execute_reply.started": "2021-12-25T01:32:01.067984Z"
    },
    "papermill": {
     "duration": 0.023759,
     "end_time": "2021-12-25T01:34:41.565248",
     "exception": false,
     "start_time": "2021-12-25T01:34:41.541489",
     "status": "completed"
    },
    "tags": []
   },
   "outputs": [],
   "source": [
    "def get_learner_meta(fold_num):\n",
    "    data = get_data_meta(fold_num)\n",
    "    model = PawpularModel_meta()\n",
    "#     if meta:\n",
    "#         print(\"data.c:\", data.c)\n",
    "#         model = PawpularModel(Model_name, num_classes=data.c) # 如果有超参数，就用上面写好的模型\n",
    "#     else:    \n",
    "#         model = create_model(Model_name, pretrained=True, num_classes=data.c)\n",
    "    learn = Learner(data, model, loss_func = petfinder_rmse, metrics=petfinder_rmse) # 默认就是全连接神经网络\n",
    "    #learn = tabular_learner(data,  loss_func = petfinder_rmse, metrics=petfinder_rmse) # 默认就是全连接神经网络\n",
    "    # learn = Learner(data, model, loss_func=BCEWithLogitsLossFlat(), metrics=petfinder_rmse).to_fp16()\n",
    "    \n",
    "    return learn"
   ]
  },
  {
   "cell_type": "code",
   "execution_count": 12,
   "id": "c7156905",
   "metadata": {
    "execution": {
     "iopub.execute_input": "2021-12-25T01:34:41.604323Z",
     "iopub.status.busy": "2021-12-25T01:34:41.603582Z",
     "iopub.status.idle": "2021-12-25T01:34:41.605928Z",
     "shell.execute_reply": "2021-12-25T01:34:41.605495Z",
     "shell.execute_reply.started": "2021-12-25T01:32:01.083283Z"
    },
    "papermill": {
     "duration": 0.023203,
     "end_time": "2021-12-25T01:34:41.606029",
     "exception": false,
     "start_time": "2021-12-25T01:34:41.582826",
     "status": "completed"
    },
    "tags": []
   },
   "outputs": [],
   "source": [
    "# 下面开始弄图片"
   ]
  },
  {
   "cell_type": "code",
   "execution_count": 13,
   "id": "b307e0bf",
   "metadata": {
    "execution": {
     "iopub.execute_input": "2021-12-25T01:34:41.645212Z",
     "iopub.status.busy": "2021-12-25T01:34:41.644685Z",
     "iopub.status.idle": "2021-12-25T01:34:44.544399Z",
     "shell.execute_reply": "2021-12-25T01:34:44.543820Z",
     "shell.execute_reply.started": "2021-12-25T01:32:01.093839Z"
    },
    "papermill": {
     "duration": 2.921369,
     "end_time": "2021-12-25T01:34:44.544527",
     "exception": false,
     "start_time": "2021-12-25T01:34:41.623158",
     "status": "completed"
    },
    "tags": []
   },
   "outputs": [],
   "source": [
    "import sys\n",
    "from PIL import Image\n",
    "import imagehash\n",
    "sys.path.append('../input/timm-pytorch-image-models/pytorch-image-models-master')\n",
    "from timm import create_model\n",
    "from timm.data.mixup import Mixup\n",
    "from tqdm.notebook import tqdm\n",
    "import numpy as np\n",
    "import pandas as pd\n",
    "import albumentations\n",
    "tqdm.pandas()"
   ]
  },
  {
   "cell_type": "code",
   "execution_count": 14,
   "id": "2aa07aa6",
   "metadata": {
    "execution": {
     "iopub.execute_input": "2021-12-25T01:34:44.585123Z",
     "iopub.status.busy": "2021-12-25T01:34:44.583628Z",
     "iopub.status.idle": "2021-12-25T01:34:44.585755Z",
     "shell.execute_reply": "2021-12-25T01:34:44.586149Z",
     "shell.execute_reply.started": "2021-12-25T01:32:04.516076Z"
    },
    "papermill": {
     "duration": 0.023897,
     "end_time": "2021-12-25T01:34:44.586273",
     "exception": false,
     "start_time": "2021-12-25T01:34:44.562376",
     "status": "completed"
    },
    "tags": []
   },
   "outputs": [],
   "source": [
    "from fastai.vision.all import *"
   ]
  },
  {
   "cell_type": "code",
   "execution_count": 15,
   "id": "5b91f126",
   "metadata": {
    "execution": {
     "iopub.execute_input": "2021-12-25T01:34:44.626100Z",
     "iopub.status.busy": "2021-12-25T01:34:44.625594Z",
     "iopub.status.idle": "2021-12-25T01:34:53.640618Z",
     "shell.execute_reply": "2021-12-25T01:34:53.641072Z",
     "shell.execute_reply.started": "2021-12-25T01:32:04.524188Z"
    },
    "papermill": {
     "duration": 9.036819,
     "end_time": "2021-12-25T01:34:53.641236",
     "exception": false,
     "start_time": "2021-12-25T01:34:44.604417",
     "status": "completed"
    },
    "tags": []
   },
   "outputs": [],
   "source": [
    "\n",
    "if not os.path.exists('/root/.cache/torch/hub/checkpoints/'):\n",
    "    os.makedirs('/root/.cache/torch/hub/checkpoints/')\n",
    "!cp '../input/swin-transformer/swin_large_patch4_window7_224_22kto1k.pth' '/root/.cache/torch/hub/checkpoints/swin_large_patch4_window7_224_22kto1k.pth'\n"
   ]
  },
  {
   "cell_type": "code",
   "execution_count": 16,
   "id": "c2201f09",
   "metadata": {
    "execution": {
     "iopub.execute_input": "2021-12-25T01:34:53.684830Z",
     "iopub.status.busy": "2021-12-25T01:34:53.684162Z",
     "iopub.status.idle": "2021-12-25T01:34:53.687060Z",
     "shell.execute_reply": "2021-12-25T01:34:53.686623Z",
     "shell.execute_reply.started": "2021-12-25T01:32:12.453134Z"
    },
    "papermill": {
     "duration": 0.027724,
     "end_time": "2021-12-25T01:34:53.687165",
     "exception": false,
     "start_time": "2021-12-25T01:34:53.659441",
     "status": "completed"
    },
    "tags": []
   },
   "outputs": [],
   "source": [
    "def get_data_pic(fold):\n",
    "#     train_df_no_val = train_df.query(f'fold != {fold}')\n",
    "#     train_df_val = train_df.query(f'fold == {fold}')\n",
    "    \n",
    "#     train_df_bal = pd.concat([train_df_no_val,train_df_val.sample(frac=1).reset_index(drop=True)])\n",
    "    train_df_f = train_df.copy()\n",
    "    # add is_valid for validation fold\n",
    "    train_df_f['is_valid'] = (train_df_f['fold'] == fold)\n",
    "    \n",
    "    dls = ImageDataLoaders.from_df(train_df_f, #pass in train DataFrame\n",
    "#                                valid_pct=0.2, #80-20 train-validation random split\n",
    "                               valid_col='is_valid', #\n",
    "                               seed=seed, #seed\n",
    "                               fn_col='path', #filename/path is in the second column of the DataFrame\n",
    "                               label_col='norm_score', #label is in the first column of the DataFrame\n",
    "                               y_block=RegressionBlock, #The type of target\n",
    "                               bs=BATCH_SIZE, #pass in batch size\n",
    "                               num_workers=8,\n",
    "                               item_tfms=Resize(224), #pass in item_tfms\n",
    "                               #batch_tfms=setup_aug_tfms([RandomErasing(),  Rotate(),   Flip()]))\n",
    "                               batch_tfms=setup_aug_tfms([RandomErasing(), Rotate(),  Zoom(), Brightness(), Flip(), Contrast(), Saturation()])) #pass in batch_tfms\n",
    "    \n",
    "    return dls\n"
   ]
  },
  {
   "cell_type": "code",
   "execution_count": 17,
   "id": "34cf9ea6",
   "metadata": {
    "execution": {
     "iopub.execute_input": "2021-12-25T01:34:53.728459Z",
     "iopub.status.busy": "2021-12-25T01:34:53.727757Z",
     "iopub.status.idle": "2021-12-25T01:34:53.730225Z",
     "shell.execute_reply": "2021-12-25T01:34:53.729830Z",
     "shell.execute_reply.started": "2021-12-25T01:32:12.467978Z"
    },
    "papermill": {
     "duration": 0.024317,
     "end_time": "2021-12-25T01:34:53.730339",
     "exception": false,
     "start_time": "2021-12-25T01:34:53.706022",
     "status": "completed"
    },
    "tags": []
   },
   "outputs": [],
   "source": [
    "def get_learner_pic(fold_num):\n",
    "    data = get_data_pic(fold_num)\n",
    "    \n",
    "    model = create_model('swin_large_patch4_window7_224', pretrained=True, num_classes=1)\n",
    "    # print(model.head.in_features) 768*2=1536\n",
    "    learn = Learner(data, model, loss_func=BCEWithLogitsLossFlat(), metrics=AccumMetric(func=petfinder_rmse), cbs=[MixUp(0.2)]).to_fp16()\n",
    "    \n",
    "    return learn"
   ]
  },
  {
   "cell_type": "code",
   "execution_count": 18,
   "id": "49f548c6",
   "metadata": {
    "execution": {
     "iopub.execute_input": "2021-12-25T01:34:53.770615Z",
     "iopub.status.busy": "2021-12-25T01:34:53.770025Z",
     "iopub.status.idle": "2021-12-25T01:34:53.782857Z",
     "shell.execute_reply": "2021-12-25T01:34:53.782308Z",
     "shell.execute_reply.started": "2021-12-25T01:32:12.480111Z"
    },
    "papermill": {
     "duration": 0.034754,
     "end_time": "2021-12-25T01:34:53.782970",
     "exception": false,
     "start_time": "2021-12-25T01:34:53.748216",
     "status": "completed"
    },
    "tags": []
   },
   "outputs": [],
   "source": [
    "test_df = pd.read_csv('../input/petfinder-pawpularity-score/test.csv')\n",
    "test_df['Pawpularity'] = [1]*len(test_df)\n",
    "test_df['path'] = test_df['Id'].map(lambda x:str(dataset_path/'test'/x)+'.jpg')\n",
    "test_df = test_df.drop(columns=['Id'])"
   ]
  },
  {
   "cell_type": "code",
   "execution_count": 19,
   "id": "d76919d1",
   "metadata": {
    "execution": {
     "iopub.execute_input": "2021-12-25T01:34:53.834037Z",
     "iopub.status.busy": "2021-12-25T01:34:53.833032Z",
     "iopub.status.idle": "2021-12-25T07:24:21.873788Z",
     "shell.execute_reply": "2021-12-25T07:24:21.874214Z"
    },
    "papermill": {
     "duration": 20968.073785,
     "end_time": "2021-12-25T07:24:21.874372",
     "exception": false,
     "start_time": "2021-12-25T01:34:53.800587",
     "status": "completed"
    },
    "tags": []
   },
   "outputs": [
    {
     "name": "stdout",
     "output_type": "stream",
     "text": [
      "Fold 0 results\n"
     ]
    },
    {
     "data": {
      "text/html": [
       "<table border=\"1\" class=\"dataframe\">\n",
       "  <thead>\n",
       "    <tr style=\"text-align: left;\">\n",
       "      <th>epoch</th>\n",
       "      <th>train_loss</th>\n",
       "      <th>valid_loss</th>\n",
       "      <th>petfinder_rmse</th>\n",
       "      <th>time</th>\n",
       "    </tr>\n",
       "  </thead>\n",
       "  <tbody>\n",
       "    <tr>\n",
       "      <td>0</td>\n",
       "      <td>21.558857</td>\n",
       "      <td>20.466156</td>\n",
       "      <td>20.466156</td>\n",
       "      <td>00:05</td>\n",
       "    </tr>\n",
       "    <tr>\n",
       "      <td>1</td>\n",
       "      <td>21.148006</td>\n",
       "      <td>20.694565</td>\n",
       "      <td>20.694565</td>\n",
       "      <td>00:04</td>\n",
       "    </tr>\n",
       "    <tr>\n",
       "      <td>2</td>\n",
       "      <td>20.596495</td>\n",
       "      <td>20.345676</td>\n",
       "      <td>20.345676</td>\n",
       "      <td>00:04</td>\n",
       "    </tr>\n",
       "    <tr>\n",
       "      <td>3</td>\n",
       "      <td>20.421499</td>\n",
       "      <td>20.399458</td>\n",
       "      <td>20.399458</td>\n",
       "      <td>00:04</td>\n",
       "    </tr>\n",
       "    <tr>\n",
       "      <td>4</td>\n",
       "      <td>20.776445</td>\n",
       "      <td>20.339447</td>\n",
       "      <td>20.339447</td>\n",
       "      <td>00:04</td>\n",
       "    </tr>\n",
       "    <tr>\n",
       "      <td>5</td>\n",
       "      <td>20.696554</td>\n",
       "      <td>20.410679</td>\n",
       "      <td>20.410679</td>\n",
       "      <td>00:04</td>\n",
       "    </tr>\n",
       "    <tr>\n",
       "      <td>6</td>\n",
       "      <td>20.219736</td>\n",
       "      <td>20.383551</td>\n",
       "      <td>20.383551</td>\n",
       "      <td>00:04</td>\n",
       "    </tr>\n",
       "  </tbody>\n",
       "</table>"
      ],
      "text/plain": [
       "<IPython.core.display.HTML object>"
      ]
     },
     "metadata": {},
     "output_type": "display_data"
    },
    {
     "name": "stderr",
     "output_type": "stream",
     "text": [
      "/opt/conda/lib/python3.7/site-packages/torch/nn/functional.py:1805: UserWarning: nn.functional.sigmoid is deprecated. Use torch.sigmoid instead.\n",
      "  warnings.warn(\"nn.functional.sigmoid is deprecated. Use torch.sigmoid instead.\")\n",
      "/opt/conda/lib/python3.7/site-packages/ipykernel_launcher.py:2: UserWarning: Using a target size (torch.Size([40, 1])) that is different to the input size (torch.Size([40])). This will likely lead to incorrect results due to broadcasting. Please ensure they have the same size.\n",
      "  \n",
      "/opt/conda/lib/python3.7/site-packages/ipykernel_launcher.py:2: UserWarning: Using a target size (torch.Size([22, 1])) that is different to the input size (torch.Size([40])). This will likely lead to incorrect results due to broadcasting. Please ensure they have the same size.\n",
      "  \n"
     ]
    },
    {
     "name": "stdout",
     "output_type": "stream",
     "text": [
      "No improvement since epoch 4: early stopping\n"
     ]
    },
    {
     "data": {
      "text/html": [],
      "text/plain": [
       "<IPython.core.display.HTML object>"
      ]
     },
     "metadata": {},
     "output_type": "display_data"
    },
    {
     "name": "stdout",
     "output_type": "stream",
     "text": [
      "meta process is done!\n"
     ]
    },
    {
     "data": {
      "text/html": [
       "<table border=\"1\" class=\"dataframe\">\n",
       "  <thead>\n",
       "    <tr style=\"text-align: left;\">\n",
       "      <th>epoch</th>\n",
       "      <th>train_loss</th>\n",
       "      <th>valid_loss</th>\n",
       "      <th>petfinder_rmse</th>\n",
       "      <th>time</th>\n",
       "    </tr>\n",
       "  </thead>\n",
       "  <tbody>\n",
       "    <tr>\n",
       "      <td>0</td>\n",
       "      <td>0.655276</td>\n",
       "      <td>0.647675</td>\n",
       "      <td>18.556986</td>\n",
       "      <td>07:03</td>\n",
       "    </tr>\n",
       "    <tr>\n",
       "      <td>1</td>\n",
       "      <td>0.650162</td>\n",
       "      <td>0.640805</td>\n",
       "      <td>17.649927</td>\n",
       "      <td>06:57</td>\n",
       "    </tr>\n",
       "    <tr>\n",
       "      <td>2</td>\n",
       "      <td>0.646256</td>\n",
       "      <td>0.641562</td>\n",
       "      <td>17.747580</td>\n",
       "      <td>06:56</td>\n",
       "    </tr>\n",
       "    <tr>\n",
       "      <td>3</td>\n",
       "      <td>0.644162</td>\n",
       "      <td>0.639471</td>\n",
       "      <td>17.458120</td>\n",
       "      <td>06:56</td>\n",
       "    </tr>\n",
       "    <tr>\n",
       "      <td>4</td>\n",
       "      <td>0.640495</td>\n",
       "      <td>0.639794</td>\n",
       "      <td>17.499357</td>\n",
       "      <td>06:58</td>\n",
       "    </tr>\n",
       "  </tbody>\n",
       "</table>"
      ],
      "text/plain": [
       "<IPython.core.display.HTML object>"
      ]
     },
     "metadata": {},
     "output_type": "display_data"
    },
    {
     "name": "stderr",
     "output_type": "stream",
     "text": [
      "/opt/conda/lib/python3.7/site-packages/torch/nn/functional.py:1805: UserWarning: nn.functional.sigmoid is deprecated. Use torch.sigmoid instead.\n",
      "  warnings.warn(\"nn.functional.sigmoid is deprecated. Use torch.sigmoid instead.\")\n"
     ]
    },
    {
     "name": "stdout",
     "output_type": "stream",
     "text": [
      "Better model found at epoch 0 with valid_loss value: 0.6476750373840332.\n",
      "Better model found at epoch 1 with valid_loss value: 0.6408049464225769.\n",
      "Better model found at epoch 3 with valid_loss value: 0.639470636844635.\n"
     ]
    },
    {
     "data": {
      "text/html": [
       "\n",
       "    <div>\n",
       "        <style>\n",
       "            /* Turns off some styling */\n",
       "            progress {\n",
       "                /* gets rid of default border in Firefox and Opera. */\n",
       "                border: none;\n",
       "                /* Needs to be in here for Safari polyfill so background images work as expected. */\n",
       "                background-size: auto;\n",
       "            }\n",
       "            .progress-bar-interrupted, .progress-bar-interrupted::-webkit-progress-bar {\n",
       "                background: #F44336;\n",
       "            }\n",
       "        </style>\n",
       "      <progress value='0' class='' max='5' style='width:300px; height:20px; vertical-align: middle;'></progress>\n",
       "      \n",
       "    </div>\n",
       "    \n"
      ],
      "text/plain": [
       "<IPython.core.display.HTML object>"
      ]
     },
     "metadata": {},
     "output_type": "display_data"
    },
    {
     "data": {
      "text/html": [],
      "text/plain": [
       "<IPython.core.display.HTML object>"
      ]
     },
     "metadata": {},
     "output_type": "display_data"
    },
    {
     "name": "stdout",
     "output_type": "stream",
     "text": [
      "pic process is done!\n",
      "meta_weight is 0.0015038067940622568\n",
      "pic_weight is 0.9998329877853394\n",
      "Fold 1 results\n"
     ]
    },
    {
     "data": {
      "text/html": [
       "<table border=\"1\" class=\"dataframe\">\n",
       "  <thead>\n",
       "    <tr style=\"text-align: left;\">\n",
       "      <th>epoch</th>\n",
       "      <th>train_loss</th>\n",
       "      <th>valid_loss</th>\n",
       "      <th>petfinder_rmse</th>\n",
       "      <th>time</th>\n",
       "    </tr>\n",
       "  </thead>\n",
       "  <tbody>\n",
       "    <tr>\n",
       "      <td>0</td>\n",
       "      <td>21.957317</td>\n",
       "      <td>20.476133</td>\n",
       "      <td>20.476133</td>\n",
       "      <td>00:04</td>\n",
       "    </tr>\n",
       "    <tr>\n",
       "      <td>1</td>\n",
       "      <td>21.600340</td>\n",
       "      <td>20.466753</td>\n",
       "      <td>20.466753</td>\n",
       "      <td>00:04</td>\n",
       "    </tr>\n",
       "    <tr>\n",
       "      <td>2</td>\n",
       "      <td>21.213799</td>\n",
       "      <td>20.567474</td>\n",
       "      <td>20.567474</td>\n",
       "      <td>00:04</td>\n",
       "    </tr>\n",
       "    <tr>\n",
       "      <td>3</td>\n",
       "      <td>21.040075</td>\n",
       "      <td>20.461241</td>\n",
       "      <td>20.461241</td>\n",
       "      <td>00:04</td>\n",
       "    </tr>\n",
       "    <tr>\n",
       "      <td>4</td>\n",
       "      <td>20.958132</td>\n",
       "      <td>20.460442</td>\n",
       "      <td>20.460442</td>\n",
       "      <td>00:04</td>\n",
       "    </tr>\n",
       "    <tr>\n",
       "      <td>5</td>\n",
       "      <td>20.786720</td>\n",
       "      <td>20.635645</td>\n",
       "      <td>20.635645</td>\n",
       "      <td>00:04</td>\n",
       "    </tr>\n",
       "    <tr>\n",
       "      <td>6</td>\n",
       "      <td>20.914606</td>\n",
       "      <td>20.492105</td>\n",
       "      <td>20.492105</td>\n",
       "      <td>00:04</td>\n",
       "    </tr>\n",
       "  </tbody>\n",
       "</table>"
      ],
      "text/plain": [
       "<IPython.core.display.HTML object>"
      ]
     },
     "metadata": {},
     "output_type": "display_data"
    },
    {
     "name": "stderr",
     "output_type": "stream",
     "text": [
      "/opt/conda/lib/python3.7/site-packages/torch/nn/functional.py:1805: UserWarning: nn.functional.sigmoid is deprecated. Use torch.sigmoid instead.\n",
      "  warnings.warn(\"nn.functional.sigmoid is deprecated. Use torch.sigmoid instead.\")\n",
      "/opt/conda/lib/python3.7/site-packages/ipykernel_launcher.py:2: UserWarning: Using a target size (torch.Size([40, 1])) that is different to the input size (torch.Size([40])). This will likely lead to incorrect results due to broadcasting. Please ensure they have the same size.\n",
      "  \n",
      "/opt/conda/lib/python3.7/site-packages/ipykernel_launcher.py:2: UserWarning: Using a target size (torch.Size([22, 1])) that is different to the input size (torch.Size([40])). This will likely lead to incorrect results due to broadcasting. Please ensure they have the same size.\n",
      "  \n"
     ]
    },
    {
     "name": "stdout",
     "output_type": "stream",
     "text": [
      "No improvement since epoch 4: early stopping\n"
     ]
    },
    {
     "data": {
      "text/html": [],
      "text/plain": [
       "<IPython.core.display.HTML object>"
      ]
     },
     "metadata": {},
     "output_type": "display_data"
    },
    {
     "name": "stdout",
     "output_type": "stream",
     "text": [
      "meta process is done!\n"
     ]
    },
    {
     "data": {
      "text/html": [
       "<table border=\"1\" class=\"dataframe\">\n",
       "  <thead>\n",
       "    <tr style=\"text-align: left;\">\n",
       "      <th>epoch</th>\n",
       "      <th>train_loss</th>\n",
       "      <th>valid_loss</th>\n",
       "      <th>petfinder_rmse</th>\n",
       "      <th>time</th>\n",
       "    </tr>\n",
       "  </thead>\n",
       "  <tbody>\n",
       "    <tr>\n",
       "      <td>0</td>\n",
       "      <td>0.658301</td>\n",
       "      <td>0.650731</td>\n",
       "      <td>19.009981</td>\n",
       "      <td>06:57</td>\n",
       "    </tr>\n",
       "    <tr>\n",
       "      <td>1</td>\n",
       "      <td>0.649138</td>\n",
       "      <td>0.640394</td>\n",
       "      <td>17.698795</td>\n",
       "      <td>06:57</td>\n",
       "    </tr>\n",
       "    <tr>\n",
       "      <td>2</td>\n",
       "      <td>0.646466</td>\n",
       "      <td>0.638529</td>\n",
       "      <td>17.441704</td>\n",
       "      <td>06:57</td>\n",
       "    </tr>\n",
       "    <tr>\n",
       "      <td>3</td>\n",
       "      <td>0.641761</td>\n",
       "      <td>0.639071</td>\n",
       "      <td>17.507605</td>\n",
       "      <td>06:58</td>\n",
       "    </tr>\n",
       "    <tr>\n",
       "      <td>4</td>\n",
       "      <td>0.640285</td>\n",
       "      <td>0.638177</td>\n",
       "      <td>17.385286</td>\n",
       "      <td>06:57</td>\n",
       "    </tr>\n",
       "  </tbody>\n",
       "</table>"
      ],
      "text/plain": [
       "<IPython.core.display.HTML object>"
      ]
     },
     "metadata": {},
     "output_type": "display_data"
    },
    {
     "name": "stderr",
     "output_type": "stream",
     "text": [
      "/opt/conda/lib/python3.7/site-packages/torch/nn/functional.py:1805: UserWarning: nn.functional.sigmoid is deprecated. Use torch.sigmoid instead.\n",
      "  warnings.warn(\"nn.functional.sigmoid is deprecated. Use torch.sigmoid instead.\")\n"
     ]
    },
    {
     "name": "stdout",
     "output_type": "stream",
     "text": [
      "Better model found at epoch 0 with valid_loss value: 0.6507306098937988.\n",
      "Better model found at epoch 1 with valid_loss value: 0.6403937935829163.\n",
      "Better model found at epoch 2 with valid_loss value: 0.6385288238525391.\n",
      "Better model found at epoch 4 with valid_loss value: 0.6381770372390747.\n"
     ]
    },
    {
     "data": {
      "text/html": [
       "\n",
       "    <div>\n",
       "        <style>\n",
       "            /* Turns off some styling */\n",
       "            progress {\n",
       "                /* gets rid of default border in Firefox and Opera. */\n",
       "                border: none;\n",
       "                /* Needs to be in here for Safari polyfill so background images work as expected. */\n",
       "                background-size: auto;\n",
       "            }\n",
       "            .progress-bar-interrupted, .progress-bar-interrupted::-webkit-progress-bar {\n",
       "                background: #F44336;\n",
       "            }\n",
       "        </style>\n",
       "      <progress value='0' class='' max='5' style='width:300px; height:20px; vertical-align: middle;'></progress>\n",
       "      \n",
       "    </div>\n",
       "    \n"
      ],
      "text/plain": [
       "<IPython.core.display.HTML object>"
      ]
     },
     "metadata": {},
     "output_type": "display_data"
    },
    {
     "data": {
      "text/html": [],
      "text/plain": [
       "<IPython.core.display.HTML object>"
      ]
     },
     "metadata": {},
     "output_type": "display_data"
    },
    {
     "name": "stdout",
     "output_type": "stream",
     "text": [
      "pic process is done!\n",
      "meta_weight is 6.424095317925094e-06\n",
      "pic_weight is 0.9999992847442627\n",
      "Fold 2 results\n"
     ]
    },
    {
     "data": {
      "text/html": [
       "<table border=\"1\" class=\"dataframe\">\n",
       "  <thead>\n",
       "    <tr style=\"text-align: left;\">\n",
       "      <th>epoch</th>\n",
       "      <th>train_loss</th>\n",
       "      <th>valid_loss</th>\n",
       "      <th>petfinder_rmse</th>\n",
       "      <th>time</th>\n",
       "    </tr>\n",
       "  </thead>\n",
       "  <tbody>\n",
       "    <tr>\n",
       "      <td>0</td>\n",
       "      <td>21.793957</td>\n",
       "      <td>20.779896</td>\n",
       "      <td>20.779896</td>\n",
       "      <td>00:04</td>\n",
       "    </tr>\n",
       "    <tr>\n",
       "      <td>1</td>\n",
       "      <td>21.336985</td>\n",
       "      <td>20.455999</td>\n",
       "      <td>20.455999</td>\n",
       "      <td>00:04</td>\n",
       "    </tr>\n",
       "    <tr>\n",
       "      <td>2</td>\n",
       "      <td>21.063202</td>\n",
       "      <td>20.575567</td>\n",
       "      <td>20.575567</td>\n",
       "      <td>00:04</td>\n",
       "    </tr>\n",
       "    <tr>\n",
       "      <td>3</td>\n",
       "      <td>20.935987</td>\n",
       "      <td>20.501518</td>\n",
       "      <td>20.501518</td>\n",
       "      <td>00:04</td>\n",
       "    </tr>\n",
       "  </tbody>\n",
       "</table>"
      ],
      "text/plain": [
       "<IPython.core.display.HTML object>"
      ]
     },
     "metadata": {},
     "output_type": "display_data"
    },
    {
     "name": "stderr",
     "output_type": "stream",
     "text": [
      "/opt/conda/lib/python3.7/site-packages/torch/nn/functional.py:1805: UserWarning: nn.functional.sigmoid is deprecated. Use torch.sigmoid instead.\n",
      "  warnings.warn(\"nn.functional.sigmoid is deprecated. Use torch.sigmoid instead.\")\n",
      "/opt/conda/lib/python3.7/site-packages/ipykernel_launcher.py:2: UserWarning: Using a target size (torch.Size([40, 1])) that is different to the input size (torch.Size([40])). This will likely lead to incorrect results due to broadcasting. Please ensure they have the same size.\n",
      "  \n",
      "/opt/conda/lib/python3.7/site-packages/ipykernel_launcher.py:2: UserWarning: Using a target size (torch.Size([22, 1])) that is different to the input size (torch.Size([40])). This will likely lead to incorrect results due to broadcasting. Please ensure they have the same size.\n",
      "  \n"
     ]
    },
    {
     "name": "stdout",
     "output_type": "stream",
     "text": [
      "No improvement since epoch 1: early stopping\n"
     ]
    },
    {
     "data": {
      "text/html": [],
      "text/plain": [
       "<IPython.core.display.HTML object>"
      ]
     },
     "metadata": {},
     "output_type": "display_data"
    },
    {
     "name": "stdout",
     "output_type": "stream",
     "text": [
      "meta process is done!\n"
     ]
    },
    {
     "data": {
      "text/html": [
       "<table border=\"1\" class=\"dataframe\">\n",
       "  <thead>\n",
       "    <tr style=\"text-align: left;\">\n",
       "      <th>epoch</th>\n",
       "      <th>train_loss</th>\n",
       "      <th>valid_loss</th>\n",
       "      <th>petfinder_rmse</th>\n",
       "      <th>time</th>\n",
       "    </tr>\n",
       "  </thead>\n",
       "  <tbody>\n",
       "    <tr>\n",
       "      <td>0</td>\n",
       "      <td>0.655805</td>\n",
       "      <td>0.649785</td>\n",
       "      <td>18.786188</td>\n",
       "      <td>06:56</td>\n",
       "    </tr>\n",
       "    <tr>\n",
       "      <td>1</td>\n",
       "      <td>0.649948</td>\n",
       "      <td>0.642971</td>\n",
       "      <td>17.910572</td>\n",
       "      <td>06:57</td>\n",
       "    </tr>\n",
       "    <tr>\n",
       "      <td>2</td>\n",
       "      <td>0.646488</td>\n",
       "      <td>0.643857</td>\n",
       "      <td>18.022709</td>\n",
       "      <td>06:57</td>\n",
       "    </tr>\n",
       "    <tr>\n",
       "      <td>3</td>\n",
       "      <td>0.641237</td>\n",
       "      <td>0.643524</td>\n",
       "      <td>17.973581</td>\n",
       "      <td>06:57</td>\n",
       "    </tr>\n",
       "  </tbody>\n",
       "</table>"
      ],
      "text/plain": [
       "<IPython.core.display.HTML object>"
      ]
     },
     "metadata": {},
     "output_type": "display_data"
    },
    {
     "name": "stderr",
     "output_type": "stream",
     "text": [
      "/opt/conda/lib/python3.7/site-packages/torch/nn/functional.py:1805: UserWarning: nn.functional.sigmoid is deprecated. Use torch.sigmoid instead.\n",
      "  warnings.warn(\"nn.functional.sigmoid is deprecated. Use torch.sigmoid instead.\")\n"
     ]
    },
    {
     "name": "stdout",
     "output_type": "stream",
     "text": [
      "Better model found at epoch 0 with valid_loss value: 0.6497848033905029.\n",
      "Better model found at epoch 1 with valid_loss value: 0.6429707407951355.\n",
      "No improvement since epoch 1: early stopping\n"
     ]
    },
    {
     "data": {
      "text/html": [
       "\n",
       "    <div>\n",
       "        <style>\n",
       "            /* Turns off some styling */\n",
       "            progress {\n",
       "                /* gets rid of default border in Firefox and Opera. */\n",
       "                border: none;\n",
       "                /* Needs to be in here for Safari polyfill so background images work as expected. */\n",
       "                background-size: auto;\n",
       "            }\n",
       "            .progress-bar-interrupted, .progress-bar-interrupted::-webkit-progress-bar {\n",
       "                background: #F44336;\n",
       "            }\n",
       "        </style>\n",
       "      <progress value='0' class='' max='5' style='width:300px; height:20px; vertical-align: middle;'></progress>\n",
       "      \n",
       "    </div>\n",
       "    \n"
      ],
      "text/plain": [
       "<IPython.core.display.HTML object>"
      ]
     },
     "metadata": {},
     "output_type": "display_data"
    },
    {
     "data": {
      "text/html": [],
      "text/plain": [
       "<IPython.core.display.HTML object>"
      ]
     },
     "metadata": {},
     "output_type": "display_data"
    },
    {
     "name": "stdout",
     "output_type": "stream",
     "text": [
      "pic process is done!\n",
      "meta_weight is 0.0\n",
      "pic_weight is 1.0\n",
      "Fold 3 results\n"
     ]
    },
    {
     "data": {
      "text/html": [
       "<table border=\"1\" class=\"dataframe\">\n",
       "  <thead>\n",
       "    <tr style=\"text-align: left;\">\n",
       "      <th>epoch</th>\n",
       "      <th>train_loss</th>\n",
       "      <th>valid_loss</th>\n",
       "      <th>petfinder_rmse</th>\n",
       "      <th>time</th>\n",
       "    </tr>\n",
       "  </thead>\n",
       "  <tbody>\n",
       "    <tr>\n",
       "      <td>0</td>\n",
       "      <td>22.285625</td>\n",
       "      <td>20.851542</td>\n",
       "      <td>20.851542</td>\n",
       "      <td>00:04</td>\n",
       "    </tr>\n",
       "    <tr>\n",
       "      <td>1</td>\n",
       "      <td>21.025658</td>\n",
       "      <td>20.808496</td>\n",
       "      <td>20.808496</td>\n",
       "      <td>00:04</td>\n",
       "    </tr>\n",
       "    <tr>\n",
       "      <td>2</td>\n",
       "      <td>21.328283</td>\n",
       "      <td>20.600771</td>\n",
       "      <td>20.600771</td>\n",
       "      <td>00:04</td>\n",
       "    </tr>\n",
       "    <tr>\n",
       "      <td>3</td>\n",
       "      <td>21.024548</td>\n",
       "      <td>20.678465</td>\n",
       "      <td>20.678465</td>\n",
       "      <td>00:04</td>\n",
       "    </tr>\n",
       "    <tr>\n",
       "      <td>4</td>\n",
       "      <td>20.594471</td>\n",
       "      <td>20.454578</td>\n",
       "      <td>20.454578</td>\n",
       "      <td>00:04</td>\n",
       "    </tr>\n",
       "    <tr>\n",
       "      <td>5</td>\n",
       "      <td>20.824064</td>\n",
       "      <td>20.456841</td>\n",
       "      <td>20.456841</td>\n",
       "      <td>00:04</td>\n",
       "    </tr>\n",
       "    <tr>\n",
       "      <td>6</td>\n",
       "      <td>20.807846</td>\n",
       "      <td>20.525667</td>\n",
       "      <td>20.525667</td>\n",
       "      <td>00:04</td>\n",
       "    </tr>\n",
       "  </tbody>\n",
       "</table>"
      ],
      "text/plain": [
       "<IPython.core.display.HTML object>"
      ]
     },
     "metadata": {},
     "output_type": "display_data"
    },
    {
     "name": "stderr",
     "output_type": "stream",
     "text": [
      "/opt/conda/lib/python3.7/site-packages/torch/nn/functional.py:1805: UserWarning: nn.functional.sigmoid is deprecated. Use torch.sigmoid instead.\n",
      "  warnings.warn(\"nn.functional.sigmoid is deprecated. Use torch.sigmoid instead.\")\n",
      "/opt/conda/lib/python3.7/site-packages/ipykernel_launcher.py:2: UserWarning: Using a target size (torch.Size([40, 1])) that is different to the input size (torch.Size([40])). This will likely lead to incorrect results due to broadcasting. Please ensure they have the same size.\n",
      "  \n",
      "/opt/conda/lib/python3.7/site-packages/ipykernel_launcher.py:2: UserWarning: Using a target size (torch.Size([22, 1])) that is different to the input size (torch.Size([40])). This will likely lead to incorrect results due to broadcasting. Please ensure they have the same size.\n",
      "  \n"
     ]
    },
    {
     "name": "stdout",
     "output_type": "stream",
     "text": [
      "No improvement since epoch 4: early stopping\n"
     ]
    },
    {
     "data": {
      "text/html": [],
      "text/plain": [
       "<IPython.core.display.HTML object>"
      ]
     },
     "metadata": {},
     "output_type": "display_data"
    },
    {
     "name": "stdout",
     "output_type": "stream",
     "text": [
      "meta process is done!\n"
     ]
    },
    {
     "data": {
      "text/html": [
       "<table border=\"1\" class=\"dataframe\">\n",
       "  <thead>\n",
       "    <tr style=\"text-align: left;\">\n",
       "      <th>epoch</th>\n",
       "      <th>train_loss</th>\n",
       "      <th>valid_loss</th>\n",
       "      <th>petfinder_rmse</th>\n",
       "      <th>time</th>\n",
       "    </tr>\n",
       "  </thead>\n",
       "  <tbody>\n",
       "    <tr>\n",
       "      <td>0</td>\n",
       "      <td>0.656022</td>\n",
       "      <td>0.645248</td>\n",
       "      <td>18.167629</td>\n",
       "      <td>06:58</td>\n",
       "    </tr>\n",
       "    <tr>\n",
       "      <td>1</td>\n",
       "      <td>0.648611</td>\n",
       "      <td>0.639932</td>\n",
       "      <td>17.463835</td>\n",
       "      <td>06:58</td>\n",
       "    </tr>\n",
       "    <tr>\n",
       "      <td>2</td>\n",
       "      <td>0.647175</td>\n",
       "      <td>0.637214</td>\n",
       "      <td>17.096687</td>\n",
       "      <td>06:58</td>\n",
       "    </tr>\n",
       "    <tr>\n",
       "      <td>3</td>\n",
       "      <td>0.642304</td>\n",
       "      <td>0.637133</td>\n",
       "      <td>17.087774</td>\n",
       "      <td>06:58</td>\n",
       "    </tr>\n",
       "    <tr>\n",
       "      <td>4</td>\n",
       "      <td>0.642476</td>\n",
       "      <td>0.637022</td>\n",
       "      <td>17.073153</td>\n",
       "      <td>06:57</td>\n",
       "    </tr>\n",
       "  </tbody>\n",
       "</table>"
      ],
      "text/plain": [
       "<IPython.core.display.HTML object>"
      ]
     },
     "metadata": {},
     "output_type": "display_data"
    },
    {
     "name": "stderr",
     "output_type": "stream",
     "text": [
      "/opt/conda/lib/python3.7/site-packages/torch/nn/functional.py:1805: UserWarning: nn.functional.sigmoid is deprecated. Use torch.sigmoid instead.\n",
      "  warnings.warn(\"nn.functional.sigmoid is deprecated. Use torch.sigmoid instead.\")\n"
     ]
    },
    {
     "name": "stdout",
     "output_type": "stream",
     "text": [
      "Better model found at epoch 0 with valid_loss value: 0.6452476382255554.\n",
      "Better model found at epoch 1 with valid_loss value: 0.639931857585907.\n",
      "Better model found at epoch 2 with valid_loss value: 0.6372136473655701.\n",
      "Better model found at epoch 3 with valid_loss value: 0.6371327042579651.\n",
      "Better model found at epoch 4 with valid_loss value: 0.637021541595459.\n"
     ]
    },
    {
     "data": {
      "text/html": [
       "\n",
       "    <div>\n",
       "        <style>\n",
       "            /* Turns off some styling */\n",
       "            progress {\n",
       "                /* gets rid of default border in Firefox and Opera. */\n",
       "                border: none;\n",
       "                /* Needs to be in here for Safari polyfill so background images work as expected. */\n",
       "                background-size: auto;\n",
       "            }\n",
       "            .progress-bar-interrupted, .progress-bar-interrupted::-webkit-progress-bar {\n",
       "                background: #F44336;\n",
       "            }\n",
       "        </style>\n",
       "      <progress value='0' class='' max='5' style='width:300px; height:20px; vertical-align: middle;'></progress>\n",
       "      \n",
       "    </div>\n",
       "    \n"
      ],
      "text/plain": [
       "<IPython.core.display.HTML object>"
      ]
     },
     "metadata": {},
     "output_type": "display_data"
    },
    {
     "data": {
      "text/html": [],
      "text/plain": [
       "<IPython.core.display.HTML object>"
      ]
     },
     "metadata": {},
     "output_type": "display_data"
    },
    {
     "name": "stdout",
     "output_type": "stream",
     "text": [
      "pic process is done!\n",
      "meta_weight is 0.0\n",
      "pic_weight is 1.0\n",
      "Fold 4 results\n"
     ]
    },
    {
     "data": {
      "text/html": [
       "<table border=\"1\" class=\"dataframe\">\n",
       "  <thead>\n",
       "    <tr style=\"text-align: left;\">\n",
       "      <th>epoch</th>\n",
       "      <th>train_loss</th>\n",
       "      <th>valid_loss</th>\n",
       "      <th>petfinder_rmse</th>\n",
       "      <th>time</th>\n",
       "    </tr>\n",
       "  </thead>\n",
       "  <tbody>\n",
       "    <tr>\n",
       "      <td>0</td>\n",
       "      <td>21.877502</td>\n",
       "      <td>20.470070</td>\n",
       "      <td>20.470070</td>\n",
       "      <td>00:04</td>\n",
       "    </tr>\n",
       "    <tr>\n",
       "      <td>1</td>\n",
       "      <td>21.941355</td>\n",
       "      <td>20.570795</td>\n",
       "      <td>20.570795</td>\n",
       "      <td>00:04</td>\n",
       "    </tr>\n",
       "    <tr>\n",
       "      <td>2</td>\n",
       "      <td>21.408442</td>\n",
       "      <td>20.459293</td>\n",
       "      <td>20.459293</td>\n",
       "      <td>00:05</td>\n",
       "    </tr>\n",
       "    <tr>\n",
       "      <td>3</td>\n",
       "      <td>21.090771</td>\n",
       "      <td>20.656147</td>\n",
       "      <td>20.656147</td>\n",
       "      <td>00:04</td>\n",
       "    </tr>\n",
       "    <tr>\n",
       "      <td>4</td>\n",
       "      <td>21.025602</td>\n",
       "      <td>20.539827</td>\n",
       "      <td>20.539827</td>\n",
       "      <td>00:04</td>\n",
       "    </tr>\n",
       "  </tbody>\n",
       "</table>"
      ],
      "text/plain": [
       "<IPython.core.display.HTML object>"
      ]
     },
     "metadata": {},
     "output_type": "display_data"
    },
    {
     "name": "stderr",
     "output_type": "stream",
     "text": [
      "/opt/conda/lib/python3.7/site-packages/torch/nn/functional.py:1805: UserWarning: nn.functional.sigmoid is deprecated. Use torch.sigmoid instead.\n",
      "  warnings.warn(\"nn.functional.sigmoid is deprecated. Use torch.sigmoid instead.\")\n",
      "/opt/conda/lib/python3.7/site-packages/ipykernel_launcher.py:2: UserWarning: Using a target size (torch.Size([40, 1])) that is different to the input size (torch.Size([40])). This will likely lead to incorrect results due to broadcasting. Please ensure they have the same size.\n",
      "  \n",
      "/opt/conda/lib/python3.7/site-packages/ipykernel_launcher.py:2: UserWarning: Using a target size (torch.Size([22, 1])) that is different to the input size (torch.Size([40])). This will likely lead to incorrect results due to broadcasting. Please ensure they have the same size.\n",
      "  \n"
     ]
    },
    {
     "name": "stdout",
     "output_type": "stream",
     "text": [
      "No improvement since epoch 2: early stopping\n"
     ]
    },
    {
     "data": {
      "text/html": [],
      "text/plain": [
       "<IPython.core.display.HTML object>"
      ]
     },
     "metadata": {},
     "output_type": "display_data"
    },
    {
     "name": "stdout",
     "output_type": "stream",
     "text": [
      "meta process is done!\n"
     ]
    },
    {
     "data": {
      "text/html": [
       "<table border=\"1\" class=\"dataframe\">\n",
       "  <thead>\n",
       "    <tr style=\"text-align: left;\">\n",
       "      <th>epoch</th>\n",
       "      <th>train_loss</th>\n",
       "      <th>valid_loss</th>\n",
       "      <th>petfinder_rmse</th>\n",
       "      <th>time</th>\n",
       "    </tr>\n",
       "  </thead>\n",
       "  <tbody>\n",
       "    <tr>\n",
       "      <td>0</td>\n",
       "      <td>0.657640</td>\n",
       "      <td>0.647441</td>\n",
       "      <td>18.561632</td>\n",
       "      <td>06:57</td>\n",
       "    </tr>\n",
       "    <tr>\n",
       "      <td>1</td>\n",
       "      <td>0.650464</td>\n",
       "      <td>0.644252</td>\n",
       "      <td>18.141947</td>\n",
       "      <td>06:57</td>\n",
       "    </tr>\n",
       "    <tr>\n",
       "      <td>2</td>\n",
       "      <td>0.644801</td>\n",
       "      <td>0.643270</td>\n",
       "      <td>18.025345</td>\n",
       "      <td>06:57</td>\n",
       "    </tr>\n",
       "    <tr>\n",
       "      <td>3</td>\n",
       "      <td>0.640824</td>\n",
       "      <td>0.642878</td>\n",
       "      <td>17.943245</td>\n",
       "      <td>06:58</td>\n",
       "    </tr>\n",
       "    <tr>\n",
       "      <td>4</td>\n",
       "      <td>0.643278</td>\n",
       "      <td>0.642722</td>\n",
       "      <td>17.947334</td>\n",
       "      <td>06:58</td>\n",
       "    </tr>\n",
       "  </tbody>\n",
       "</table>"
      ],
      "text/plain": [
       "<IPython.core.display.HTML object>"
      ]
     },
     "metadata": {},
     "output_type": "display_data"
    },
    {
     "name": "stderr",
     "output_type": "stream",
     "text": [
      "/opt/conda/lib/python3.7/site-packages/torch/nn/functional.py:1805: UserWarning: nn.functional.sigmoid is deprecated. Use torch.sigmoid instead.\n",
      "  warnings.warn(\"nn.functional.sigmoid is deprecated. Use torch.sigmoid instead.\")\n"
     ]
    },
    {
     "name": "stdout",
     "output_type": "stream",
     "text": [
      "Better model found at epoch 0 with valid_loss value: 0.6474405527114868.\n",
      "Better model found at epoch 1 with valid_loss value: 0.6442522406578064.\n",
      "Better model found at epoch 2 with valid_loss value: 0.6432701349258423.\n",
      "Better model found at epoch 3 with valid_loss value: 0.6428781747817993.\n",
      "Better model found at epoch 4 with valid_loss value: 0.642722487449646.\n"
     ]
    },
    {
     "data": {
      "text/html": [
       "\n",
       "    <div>\n",
       "        <style>\n",
       "            /* Turns off some styling */\n",
       "            progress {\n",
       "                /* gets rid of default border in Firefox and Opera. */\n",
       "                border: none;\n",
       "                /* Needs to be in here for Safari polyfill so background images work as expected. */\n",
       "                background-size: auto;\n",
       "            }\n",
       "            .progress-bar-interrupted, .progress-bar-interrupted::-webkit-progress-bar {\n",
       "                background: #F44336;\n",
       "            }\n",
       "        </style>\n",
       "      <progress value='0' class='' max='5' style='width:300px; height:20px; vertical-align: middle;'></progress>\n",
       "      \n",
       "    </div>\n",
       "    \n"
      ],
      "text/plain": [
       "<IPython.core.display.HTML object>"
      ]
     },
     "metadata": {},
     "output_type": "display_data"
    },
    {
     "data": {
      "text/html": [],
      "text/plain": [
       "<IPython.core.display.HTML object>"
      ]
     },
     "metadata": {},
     "output_type": "display_data"
    },
    {
     "name": "stdout",
     "output_type": "stream",
     "text": [
      "pic process is done!\n",
      "meta_weight is 0.0\n",
      "pic_weight is 1.0\n",
      "Fold 5 results\n"
     ]
    },
    {
     "data": {
      "text/html": [
       "<table border=\"1\" class=\"dataframe\">\n",
       "  <thead>\n",
       "    <tr style=\"text-align: left;\">\n",
       "      <th>epoch</th>\n",
       "      <th>train_loss</th>\n",
       "      <th>valid_loss</th>\n",
       "      <th>petfinder_rmse</th>\n",
       "      <th>time</th>\n",
       "    </tr>\n",
       "  </thead>\n",
       "  <tbody>\n",
       "    <tr>\n",
       "      <td>0</td>\n",
       "      <td>22.291094</td>\n",
       "      <td>20.625973</td>\n",
       "      <td>20.625973</td>\n",
       "      <td>00:04</td>\n",
       "    </tr>\n",
       "    <tr>\n",
       "      <td>1</td>\n",
       "      <td>21.731428</td>\n",
       "      <td>20.465094</td>\n",
       "      <td>20.465094</td>\n",
       "      <td>00:04</td>\n",
       "    </tr>\n",
       "    <tr>\n",
       "      <td>2</td>\n",
       "      <td>21.120169</td>\n",
       "      <td>20.462019</td>\n",
       "      <td>20.462019</td>\n",
       "      <td>00:04</td>\n",
       "    </tr>\n",
       "    <tr>\n",
       "      <td>3</td>\n",
       "      <td>21.281815</td>\n",
       "      <td>20.515446</td>\n",
       "      <td>20.515446</td>\n",
       "      <td>00:04</td>\n",
       "    </tr>\n",
       "    <tr>\n",
       "      <td>4</td>\n",
       "      <td>21.415390</td>\n",
       "      <td>20.483772</td>\n",
       "      <td>20.483772</td>\n",
       "      <td>00:04</td>\n",
       "    </tr>\n",
       "  </tbody>\n",
       "</table>"
      ],
      "text/plain": [
       "<IPython.core.display.HTML object>"
      ]
     },
     "metadata": {},
     "output_type": "display_data"
    },
    {
     "name": "stderr",
     "output_type": "stream",
     "text": [
      "/opt/conda/lib/python3.7/site-packages/torch/nn/functional.py:1805: UserWarning: nn.functional.sigmoid is deprecated. Use torch.sigmoid instead.\n",
      "  warnings.warn(\"nn.functional.sigmoid is deprecated. Use torch.sigmoid instead.\")\n",
      "/opt/conda/lib/python3.7/site-packages/ipykernel_launcher.py:2: UserWarning: Using a target size (torch.Size([40, 1])) that is different to the input size (torch.Size([40])). This will likely lead to incorrect results due to broadcasting. Please ensure they have the same size.\n",
      "  \n",
      "/opt/conda/lib/python3.7/site-packages/ipykernel_launcher.py:2: UserWarning: Using a target size (torch.Size([22, 1])) that is different to the input size (torch.Size([40])). This will likely lead to incorrect results due to broadcasting. Please ensure they have the same size.\n",
      "  \n"
     ]
    },
    {
     "name": "stdout",
     "output_type": "stream",
     "text": [
      "No improvement since epoch 2: early stopping\n"
     ]
    },
    {
     "data": {
      "text/html": [],
      "text/plain": [
       "<IPython.core.display.HTML object>"
      ]
     },
     "metadata": {},
     "output_type": "display_data"
    },
    {
     "name": "stdout",
     "output_type": "stream",
     "text": [
      "meta process is done!\n"
     ]
    },
    {
     "data": {
      "text/html": [
       "<table border=\"1\" class=\"dataframe\">\n",
       "  <thead>\n",
       "    <tr style=\"text-align: left;\">\n",
       "      <th>epoch</th>\n",
       "      <th>train_loss</th>\n",
       "      <th>valid_loss</th>\n",
       "      <th>petfinder_rmse</th>\n",
       "      <th>time</th>\n",
       "    </tr>\n",
       "  </thead>\n",
       "  <tbody>\n",
       "    <tr>\n",
       "      <td>0</td>\n",
       "      <td>0.659901</td>\n",
       "      <td>0.647883</td>\n",
       "      <td>18.649601</td>\n",
       "      <td>06:58</td>\n",
       "    </tr>\n",
       "    <tr>\n",
       "      <td>1</td>\n",
       "      <td>0.646528</td>\n",
       "      <td>0.644173</td>\n",
       "      <td>18.162203</td>\n",
       "      <td>06:58</td>\n",
       "    </tr>\n",
       "    <tr>\n",
       "      <td>2</td>\n",
       "      <td>0.645910</td>\n",
       "      <td>0.640096</td>\n",
       "      <td>17.659096</td>\n",
       "      <td>06:58</td>\n",
       "    </tr>\n",
       "    <tr>\n",
       "      <td>3</td>\n",
       "      <td>0.642444</td>\n",
       "      <td>0.638964</td>\n",
       "      <td>17.514706</td>\n",
       "      <td>06:57</td>\n",
       "    </tr>\n",
       "    <tr>\n",
       "      <td>4</td>\n",
       "      <td>0.641160</td>\n",
       "      <td>0.638926</td>\n",
       "      <td>17.504436</td>\n",
       "      <td>06:57</td>\n",
       "    </tr>\n",
       "  </tbody>\n",
       "</table>"
      ],
      "text/plain": [
       "<IPython.core.display.HTML object>"
      ]
     },
     "metadata": {},
     "output_type": "display_data"
    },
    {
     "name": "stderr",
     "output_type": "stream",
     "text": [
      "/opt/conda/lib/python3.7/site-packages/torch/nn/functional.py:1805: UserWarning: nn.functional.sigmoid is deprecated. Use torch.sigmoid instead.\n",
      "  warnings.warn(\"nn.functional.sigmoid is deprecated. Use torch.sigmoid instead.\")\n"
     ]
    },
    {
     "name": "stdout",
     "output_type": "stream",
     "text": [
      "Better model found at epoch 0 with valid_loss value: 0.6478831768035889.\n",
      "Better model found at epoch 1 with valid_loss value: 0.6441727876663208.\n",
      "Better model found at epoch 2 with valid_loss value: 0.6400955319404602.\n",
      "Better model found at epoch 3 with valid_loss value: 0.6389643549919128.\n",
      "Better model found at epoch 4 with valid_loss value: 0.638926088809967.\n"
     ]
    },
    {
     "data": {
      "text/html": [
       "\n",
       "    <div>\n",
       "        <style>\n",
       "            /* Turns off some styling */\n",
       "            progress {\n",
       "                /* gets rid of default border in Firefox and Opera. */\n",
       "                border: none;\n",
       "                /* Needs to be in here for Safari polyfill so background images work as expected. */\n",
       "                background-size: auto;\n",
       "            }\n",
       "            .progress-bar-interrupted, .progress-bar-interrupted::-webkit-progress-bar {\n",
       "                background: #F44336;\n",
       "            }\n",
       "        </style>\n",
       "      <progress value='0' class='' max='5' style='width:300px; height:20px; vertical-align: middle;'></progress>\n",
       "      \n",
       "    </div>\n",
       "    \n"
      ],
      "text/plain": [
       "<IPython.core.display.HTML object>"
      ]
     },
     "metadata": {},
     "output_type": "display_data"
    },
    {
     "data": {
      "text/html": [],
      "text/plain": [
       "<IPython.core.display.HTML object>"
      ]
     },
     "metadata": {},
     "output_type": "display_data"
    },
    {
     "name": "stdout",
     "output_type": "stream",
     "text": [
      "pic process is done!\n",
      "meta_weight is 2.9345756047405303e-05\n",
      "pic_weight is 0.9999967217445374\n",
      "Fold 6 results\n"
     ]
    },
    {
     "data": {
      "text/html": [
       "<table border=\"1\" class=\"dataframe\">\n",
       "  <thead>\n",
       "    <tr style=\"text-align: left;\">\n",
       "      <th>epoch</th>\n",
       "      <th>train_loss</th>\n",
       "      <th>valid_loss</th>\n",
       "      <th>petfinder_rmse</th>\n",
       "      <th>time</th>\n",
       "    </tr>\n",
       "  </thead>\n",
       "  <tbody>\n",
       "    <tr>\n",
       "      <td>0</td>\n",
       "      <td>22.021656</td>\n",
       "      <td>20.968819</td>\n",
       "      <td>20.968819</td>\n",
       "      <td>00:04</td>\n",
       "    </tr>\n",
       "    <tr>\n",
       "      <td>1</td>\n",
       "      <td>21.591806</td>\n",
       "      <td>20.458891</td>\n",
       "      <td>20.458891</td>\n",
       "      <td>00:04</td>\n",
       "    </tr>\n",
       "    <tr>\n",
       "      <td>2</td>\n",
       "      <td>21.165358</td>\n",
       "      <td>20.650253</td>\n",
       "      <td>20.650253</td>\n",
       "      <td>00:04</td>\n",
       "    </tr>\n",
       "    <tr>\n",
       "      <td>3</td>\n",
       "      <td>20.804941</td>\n",
       "      <td>20.458672</td>\n",
       "      <td>20.458672</td>\n",
       "      <td>00:04</td>\n",
       "    </tr>\n",
       "    <tr>\n",
       "      <td>4</td>\n",
       "      <td>21.087807</td>\n",
       "      <td>20.456642</td>\n",
       "      <td>20.456642</td>\n",
       "      <td>00:05</td>\n",
       "    </tr>\n",
       "    <tr>\n",
       "      <td>5</td>\n",
       "      <td>20.747583</td>\n",
       "      <td>20.452259</td>\n",
       "      <td>20.452259</td>\n",
       "      <td>00:04</td>\n",
       "    </tr>\n",
       "    <tr>\n",
       "      <td>6</td>\n",
       "      <td>20.763969</td>\n",
       "      <td>20.456516</td>\n",
       "      <td>20.456516</td>\n",
       "      <td>00:04</td>\n",
       "    </tr>\n",
       "    <tr>\n",
       "      <td>7</td>\n",
       "      <td>20.814384</td>\n",
       "      <td>20.491892</td>\n",
       "      <td>20.491892</td>\n",
       "      <td>00:04</td>\n",
       "    </tr>\n",
       "  </tbody>\n",
       "</table>"
      ],
      "text/plain": [
       "<IPython.core.display.HTML object>"
      ]
     },
     "metadata": {},
     "output_type": "display_data"
    },
    {
     "name": "stderr",
     "output_type": "stream",
     "text": [
      "/opt/conda/lib/python3.7/site-packages/torch/nn/functional.py:1805: UserWarning: nn.functional.sigmoid is deprecated. Use torch.sigmoid instead.\n",
      "  warnings.warn(\"nn.functional.sigmoid is deprecated. Use torch.sigmoid instead.\")\n",
      "/opt/conda/lib/python3.7/site-packages/ipykernel_launcher.py:2: UserWarning: Using a target size (torch.Size([40, 1])) that is different to the input size (torch.Size([40])). This will likely lead to incorrect results due to broadcasting. Please ensure they have the same size.\n",
      "  \n",
      "/opt/conda/lib/python3.7/site-packages/ipykernel_launcher.py:2: UserWarning: Using a target size (torch.Size([22, 1])) that is different to the input size (torch.Size([40])). This will likely lead to incorrect results due to broadcasting. Please ensure they have the same size.\n",
      "  \n"
     ]
    },
    {
     "name": "stdout",
     "output_type": "stream",
     "text": [
      "No improvement since epoch 5: early stopping\n"
     ]
    },
    {
     "data": {
      "text/html": [],
      "text/plain": [
       "<IPython.core.display.HTML object>"
      ]
     },
     "metadata": {},
     "output_type": "display_data"
    },
    {
     "name": "stdout",
     "output_type": "stream",
     "text": [
      "meta process is done!\n"
     ]
    },
    {
     "data": {
      "text/html": [
       "<table border=\"1\" class=\"dataframe\">\n",
       "  <thead>\n",
       "    <tr style=\"text-align: left;\">\n",
       "      <th>epoch</th>\n",
       "      <th>train_loss</th>\n",
       "      <th>valid_loss</th>\n",
       "      <th>petfinder_rmse</th>\n",
       "      <th>time</th>\n",
       "    </tr>\n",
       "  </thead>\n",
       "  <tbody>\n",
       "    <tr>\n",
       "      <td>0</td>\n",
       "      <td>0.657933</td>\n",
       "      <td>0.649938</td>\n",
       "      <td>18.862455</td>\n",
       "      <td>06:58</td>\n",
       "    </tr>\n",
       "    <tr>\n",
       "      <td>1</td>\n",
       "      <td>0.648030</td>\n",
       "      <td>0.645980</td>\n",
       "      <td>18.339191</td>\n",
       "      <td>06:57</td>\n",
       "    </tr>\n",
       "    <tr>\n",
       "      <td>2</td>\n",
       "      <td>0.644476</td>\n",
       "      <td>0.643450</td>\n",
       "      <td>18.012243</td>\n",
       "      <td>06:57</td>\n",
       "    </tr>\n",
       "    <tr>\n",
       "      <td>3</td>\n",
       "      <td>0.641531</td>\n",
       "      <td>0.642425</td>\n",
       "      <td>17.875729</td>\n",
       "      <td>06:57</td>\n",
       "    </tr>\n",
       "    <tr>\n",
       "      <td>4</td>\n",
       "      <td>0.639786</td>\n",
       "      <td>0.642316</td>\n",
       "      <td>17.860905</td>\n",
       "      <td>06:57</td>\n",
       "    </tr>\n",
       "  </tbody>\n",
       "</table>"
      ],
      "text/plain": [
       "<IPython.core.display.HTML object>"
      ]
     },
     "metadata": {},
     "output_type": "display_data"
    },
    {
     "name": "stderr",
     "output_type": "stream",
     "text": [
      "/opt/conda/lib/python3.7/site-packages/torch/nn/functional.py:1805: UserWarning: nn.functional.sigmoid is deprecated. Use torch.sigmoid instead.\n",
      "  warnings.warn(\"nn.functional.sigmoid is deprecated. Use torch.sigmoid instead.\")\n"
     ]
    },
    {
     "name": "stdout",
     "output_type": "stream",
     "text": [
      "Better model found at epoch 0 with valid_loss value: 0.6499378085136414.\n",
      "Better model found at epoch 1 with valid_loss value: 0.6459799408912659.\n",
      "Better model found at epoch 2 with valid_loss value: 0.6434497237205505.\n",
      "Better model found at epoch 3 with valid_loss value: 0.6424251198768616.\n",
      "Better model found at epoch 4 with valid_loss value: 0.6423155069351196.\n"
     ]
    },
    {
     "data": {
      "text/html": [
       "\n",
       "    <div>\n",
       "        <style>\n",
       "            /* Turns off some styling */\n",
       "            progress {\n",
       "                /* gets rid of default border in Firefox and Opera. */\n",
       "                border: none;\n",
       "                /* Needs to be in here for Safari polyfill so background images work as expected. */\n",
       "                background-size: auto;\n",
       "            }\n",
       "            .progress-bar-interrupted, .progress-bar-interrupted::-webkit-progress-bar {\n",
       "                background: #F44336;\n",
       "            }\n",
       "        </style>\n",
       "      <progress value='0' class='' max='5' style='width:300px; height:20px; vertical-align: middle;'></progress>\n",
       "      \n",
       "    </div>\n",
       "    \n"
      ],
      "text/plain": [
       "<IPython.core.display.HTML object>"
      ]
     },
     "metadata": {},
     "output_type": "display_data"
    },
    {
     "data": {
      "text/html": [],
      "text/plain": [
       "<IPython.core.display.HTML object>"
      ]
     },
     "metadata": {},
     "output_type": "display_data"
    },
    {
     "name": "stdout",
     "output_type": "stream",
     "text": [
      "pic process is done!\n",
      "meta_weight is 9.439046152692754e-06\n",
      "pic_weight is 0.9999986290931702\n",
      "Fold 7 results\n"
     ]
    },
    {
     "data": {
      "text/html": [
       "<table border=\"1\" class=\"dataframe\">\n",
       "  <thead>\n",
       "    <tr style=\"text-align: left;\">\n",
       "      <th>epoch</th>\n",
       "      <th>train_loss</th>\n",
       "      <th>valid_loss</th>\n",
       "      <th>petfinder_rmse</th>\n",
       "      <th>time</th>\n",
       "    </tr>\n",
       "  </thead>\n",
       "  <tbody>\n",
       "    <tr>\n",
       "      <td>0</td>\n",
       "      <td>21.999960</td>\n",
       "      <td>20.566736</td>\n",
       "      <td>20.566736</td>\n",
       "      <td>00:04</td>\n",
       "    </tr>\n",
       "    <tr>\n",
       "      <td>1</td>\n",
       "      <td>21.770725</td>\n",
       "      <td>20.673546</td>\n",
       "      <td>20.673546</td>\n",
       "      <td>00:04</td>\n",
       "    </tr>\n",
       "    <tr>\n",
       "      <td>2</td>\n",
       "      <td>21.187290</td>\n",
       "      <td>20.527647</td>\n",
       "      <td>20.527647</td>\n",
       "      <td>00:04</td>\n",
       "    </tr>\n",
       "    <tr>\n",
       "      <td>3</td>\n",
       "      <td>20.998308</td>\n",
       "      <td>20.574064</td>\n",
       "      <td>20.574064</td>\n",
       "      <td>00:04</td>\n",
       "    </tr>\n",
       "    <tr>\n",
       "      <td>4</td>\n",
       "      <td>20.893978</td>\n",
       "      <td>20.492807</td>\n",
       "      <td>20.492807</td>\n",
       "      <td>00:04</td>\n",
       "    </tr>\n",
       "    <tr>\n",
       "      <td>5</td>\n",
       "      <td>20.811539</td>\n",
       "      <td>20.451693</td>\n",
       "      <td>20.451693</td>\n",
       "      <td>00:04</td>\n",
       "    </tr>\n",
       "    <tr>\n",
       "      <td>6</td>\n",
       "      <td>20.654907</td>\n",
       "      <td>20.453299</td>\n",
       "      <td>20.453299</td>\n",
       "      <td>00:04</td>\n",
       "    </tr>\n",
       "    <tr>\n",
       "      <td>7</td>\n",
       "      <td>20.675947</td>\n",
       "      <td>20.457838</td>\n",
       "      <td>20.457838</td>\n",
       "      <td>00:05</td>\n",
       "    </tr>\n",
       "  </tbody>\n",
       "</table>"
      ],
      "text/plain": [
       "<IPython.core.display.HTML object>"
      ]
     },
     "metadata": {},
     "output_type": "display_data"
    },
    {
     "name": "stderr",
     "output_type": "stream",
     "text": [
      "/opt/conda/lib/python3.7/site-packages/torch/nn/functional.py:1805: UserWarning: nn.functional.sigmoid is deprecated. Use torch.sigmoid instead.\n",
      "  warnings.warn(\"nn.functional.sigmoid is deprecated. Use torch.sigmoid instead.\")\n",
      "/opt/conda/lib/python3.7/site-packages/ipykernel_launcher.py:2: UserWarning: Using a target size (torch.Size([40, 1])) that is different to the input size (torch.Size([40])). This will likely lead to incorrect results due to broadcasting. Please ensure they have the same size.\n",
      "  \n",
      "/opt/conda/lib/python3.7/site-packages/ipykernel_launcher.py:2: UserWarning: Using a target size (torch.Size([22, 1])) that is different to the input size (torch.Size([40])). This will likely lead to incorrect results due to broadcasting. Please ensure they have the same size.\n",
      "  \n"
     ]
    },
    {
     "name": "stdout",
     "output_type": "stream",
     "text": [
      "No improvement since epoch 5: early stopping\n"
     ]
    },
    {
     "data": {
      "text/html": [],
      "text/plain": [
       "<IPython.core.display.HTML object>"
      ]
     },
     "metadata": {},
     "output_type": "display_data"
    },
    {
     "name": "stdout",
     "output_type": "stream",
     "text": [
      "meta process is done!\n"
     ]
    },
    {
     "data": {
      "text/html": [
       "<table border=\"1\" class=\"dataframe\">\n",
       "  <thead>\n",
       "    <tr style=\"text-align: left;\">\n",
       "      <th>epoch</th>\n",
       "      <th>train_loss</th>\n",
       "      <th>valid_loss</th>\n",
       "      <th>petfinder_rmse</th>\n",
       "      <th>time</th>\n",
       "    </tr>\n",
       "  </thead>\n",
       "  <tbody>\n",
       "    <tr>\n",
       "      <td>0</td>\n",
       "      <td>0.656299</td>\n",
       "      <td>0.650445</td>\n",
       "      <td>18.866127</td>\n",
       "      <td>06:59</td>\n",
       "    </tr>\n",
       "    <tr>\n",
       "      <td>1</td>\n",
       "      <td>0.648148</td>\n",
       "      <td>0.643453</td>\n",
       "      <td>18.009632</td>\n",
       "      <td>06:58</td>\n",
       "    </tr>\n",
       "    <tr>\n",
       "      <td>2</td>\n",
       "      <td>0.644803</td>\n",
       "      <td>0.645212</td>\n",
       "      <td>18.198919</td>\n",
       "      <td>06:58</td>\n",
       "    </tr>\n",
       "    <tr>\n",
       "      <td>3</td>\n",
       "      <td>0.642346</td>\n",
       "      <td>0.642741</td>\n",
       "      <td>17.924171</td>\n",
       "      <td>06:57</td>\n",
       "    </tr>\n",
       "    <tr>\n",
       "      <td>4</td>\n",
       "      <td>0.641597</td>\n",
       "      <td>0.642572</td>\n",
       "      <td>17.904421</td>\n",
       "      <td>06:58</td>\n",
       "    </tr>\n",
       "  </tbody>\n",
       "</table>"
      ],
      "text/plain": [
       "<IPython.core.display.HTML object>"
      ]
     },
     "metadata": {},
     "output_type": "display_data"
    },
    {
     "name": "stderr",
     "output_type": "stream",
     "text": [
      "/opt/conda/lib/python3.7/site-packages/torch/nn/functional.py:1805: UserWarning: nn.functional.sigmoid is deprecated. Use torch.sigmoid instead.\n",
      "  warnings.warn(\"nn.functional.sigmoid is deprecated. Use torch.sigmoid instead.\")\n"
     ]
    },
    {
     "name": "stdout",
     "output_type": "stream",
     "text": [
      "Better model found at epoch 0 with valid_loss value: 0.6504446268081665.\n",
      "Better model found at epoch 1 with valid_loss value: 0.6434533596038818.\n",
      "Better model found at epoch 3 with valid_loss value: 0.6427405476570129.\n",
      "Better model found at epoch 4 with valid_loss value: 0.6425716876983643.\n"
     ]
    },
    {
     "data": {
      "text/html": [
       "\n",
       "    <div>\n",
       "        <style>\n",
       "            /* Turns off some styling */\n",
       "            progress {\n",
       "                /* gets rid of default border in Firefox and Opera. */\n",
       "                border: none;\n",
       "                /* Needs to be in here for Safari polyfill so background images work as expected. */\n",
       "                background-size: auto;\n",
       "            }\n",
       "            .progress-bar-interrupted, .progress-bar-interrupted::-webkit-progress-bar {\n",
       "                background: #F44336;\n",
       "            }\n",
       "        </style>\n",
       "      <progress value='0' class='' max='5' style='width:300px; height:20px; vertical-align: middle;'></progress>\n",
       "      \n",
       "    </div>\n",
       "    \n"
      ],
      "text/plain": [
       "<IPython.core.display.HTML object>"
      ]
     },
     "metadata": {},
     "output_type": "display_data"
    },
    {
     "data": {
      "text/html": [],
      "text/plain": [
       "<IPython.core.display.HTML object>"
      ]
     },
     "metadata": {},
     "output_type": "display_data"
    },
    {
     "name": "stdout",
     "output_type": "stream",
     "text": [
      "pic process is done!\n",
      "meta_weight is 0.0002637898433022201\n",
      "pic_weight is 0.9999608397483826\n",
      "Fold 8 results\n"
     ]
    },
    {
     "data": {
      "text/html": [
       "<table border=\"1\" class=\"dataframe\">\n",
       "  <thead>\n",
       "    <tr style=\"text-align: left;\">\n",
       "      <th>epoch</th>\n",
       "      <th>train_loss</th>\n",
       "      <th>valid_loss</th>\n",
       "      <th>petfinder_rmse</th>\n",
       "      <th>time</th>\n",
       "    </tr>\n",
       "  </thead>\n",
       "  <tbody>\n",
       "    <tr>\n",
       "      <td>0</td>\n",
       "      <td>22.314436</td>\n",
       "      <td>20.979017</td>\n",
       "      <td>20.979017</td>\n",
       "      <td>00:04</td>\n",
       "    </tr>\n",
       "    <tr>\n",
       "      <td>1</td>\n",
       "      <td>21.068621</td>\n",
       "      <td>20.509436</td>\n",
       "      <td>20.509436</td>\n",
       "      <td>00:04</td>\n",
       "    </tr>\n",
       "    <tr>\n",
       "      <td>2</td>\n",
       "      <td>21.320263</td>\n",
       "      <td>20.514420</td>\n",
       "      <td>20.514420</td>\n",
       "      <td>00:04</td>\n",
       "    </tr>\n",
       "    <tr>\n",
       "      <td>3</td>\n",
       "      <td>20.598305</td>\n",
       "      <td>20.479450</td>\n",
       "      <td>20.479450</td>\n",
       "      <td>00:04</td>\n",
       "    </tr>\n",
       "    <tr>\n",
       "      <td>4</td>\n",
       "      <td>20.658207</td>\n",
       "      <td>20.454145</td>\n",
       "      <td>20.454145</td>\n",
       "      <td>00:04</td>\n",
       "    </tr>\n",
       "    <tr>\n",
       "      <td>5</td>\n",
       "      <td>20.779913</td>\n",
       "      <td>20.473375</td>\n",
       "      <td>20.473375</td>\n",
       "      <td>00:04</td>\n",
       "    </tr>\n",
       "    <tr>\n",
       "      <td>6</td>\n",
       "      <td>20.212351</td>\n",
       "      <td>20.530262</td>\n",
       "      <td>20.530262</td>\n",
       "      <td>00:04</td>\n",
       "    </tr>\n",
       "  </tbody>\n",
       "</table>"
      ],
      "text/plain": [
       "<IPython.core.display.HTML object>"
      ]
     },
     "metadata": {},
     "output_type": "display_data"
    },
    {
     "name": "stderr",
     "output_type": "stream",
     "text": [
      "/opt/conda/lib/python3.7/site-packages/torch/nn/functional.py:1805: UserWarning: nn.functional.sigmoid is deprecated. Use torch.sigmoid instead.\n",
      "  warnings.warn(\"nn.functional.sigmoid is deprecated. Use torch.sigmoid instead.\")\n",
      "/opt/conda/lib/python3.7/site-packages/ipykernel_launcher.py:2: UserWarning: Using a target size (torch.Size([40, 1])) that is different to the input size (torch.Size([40])). This will likely lead to incorrect results due to broadcasting. Please ensure they have the same size.\n",
      "  \n",
      "/opt/conda/lib/python3.7/site-packages/ipykernel_launcher.py:2: UserWarning: Using a target size (torch.Size([22, 1])) that is different to the input size (torch.Size([40])). This will likely lead to incorrect results due to broadcasting. Please ensure they have the same size.\n",
      "  \n"
     ]
    },
    {
     "name": "stdout",
     "output_type": "stream",
     "text": [
      "No improvement since epoch 4: early stopping\n"
     ]
    },
    {
     "data": {
      "text/html": [],
      "text/plain": [
       "<IPython.core.display.HTML object>"
      ]
     },
     "metadata": {},
     "output_type": "display_data"
    },
    {
     "name": "stdout",
     "output_type": "stream",
     "text": [
      "meta process is done!\n"
     ]
    },
    {
     "data": {
      "text/html": [
       "<table border=\"1\" class=\"dataframe\">\n",
       "  <thead>\n",
       "    <tr style=\"text-align: left;\">\n",
       "      <th>epoch</th>\n",
       "      <th>train_loss</th>\n",
       "      <th>valid_loss</th>\n",
       "      <th>petfinder_rmse</th>\n",
       "      <th>time</th>\n",
       "    </tr>\n",
       "  </thead>\n",
       "  <tbody>\n",
       "    <tr>\n",
       "      <td>0</td>\n",
       "      <td>0.657842</td>\n",
       "      <td>0.647466</td>\n",
       "      <td>18.526985</td>\n",
       "      <td>06:57</td>\n",
       "    </tr>\n",
       "    <tr>\n",
       "      <td>1</td>\n",
       "      <td>0.647634</td>\n",
       "      <td>0.642273</td>\n",
       "      <td>17.852631</td>\n",
       "      <td>06:57</td>\n",
       "    </tr>\n",
       "    <tr>\n",
       "      <td>2</td>\n",
       "      <td>0.645844</td>\n",
       "      <td>0.639706</td>\n",
       "      <td>17.518200</td>\n",
       "      <td>06:57</td>\n",
       "    </tr>\n",
       "    <tr>\n",
       "      <td>3</td>\n",
       "      <td>0.643382</td>\n",
       "      <td>0.638188</td>\n",
       "      <td>17.306973</td>\n",
       "      <td>06:57</td>\n",
       "    </tr>\n",
       "    <tr>\n",
       "      <td>4</td>\n",
       "      <td>0.640921</td>\n",
       "      <td>0.638213</td>\n",
       "      <td>17.308832</td>\n",
       "      <td>06:57</td>\n",
       "    </tr>\n",
       "  </tbody>\n",
       "</table>"
      ],
      "text/plain": [
       "<IPython.core.display.HTML object>"
      ]
     },
     "metadata": {},
     "output_type": "display_data"
    },
    {
     "name": "stderr",
     "output_type": "stream",
     "text": [
      "/opt/conda/lib/python3.7/site-packages/torch/nn/functional.py:1805: UserWarning: nn.functional.sigmoid is deprecated. Use torch.sigmoid instead.\n",
      "  warnings.warn(\"nn.functional.sigmoid is deprecated. Use torch.sigmoid instead.\")\n"
     ]
    },
    {
     "name": "stdout",
     "output_type": "stream",
     "text": [
      "Better model found at epoch 0 with valid_loss value: 0.6474664211273193.\n",
      "Better model found at epoch 1 with valid_loss value: 0.6422732472419739.\n",
      "Better model found at epoch 2 with valid_loss value: 0.6397061944007874.\n",
      "Better model found at epoch 3 with valid_loss value: 0.6381877064704895.\n"
     ]
    },
    {
     "data": {
      "text/html": [
       "\n",
       "    <div>\n",
       "        <style>\n",
       "            /* Turns off some styling */\n",
       "            progress {\n",
       "                /* gets rid of default border in Firefox and Opera. */\n",
       "                border: none;\n",
       "                /* Needs to be in here for Safari polyfill so background images work as expected. */\n",
       "                background-size: auto;\n",
       "            }\n",
       "            .progress-bar-interrupted, .progress-bar-interrupted::-webkit-progress-bar {\n",
       "                background: #F44336;\n",
       "            }\n",
       "        </style>\n",
       "      <progress value='0' class='' max='5' style='width:300px; height:20px; vertical-align: middle;'></progress>\n",
       "      \n",
       "    </div>\n",
       "    \n"
      ],
      "text/plain": [
       "<IPython.core.display.HTML object>"
      ]
     },
     "metadata": {},
     "output_type": "display_data"
    },
    {
     "data": {
      "text/html": [],
      "text/plain": [
       "<IPython.core.display.HTML object>"
      ]
     },
     "metadata": {},
     "output_type": "display_data"
    },
    {
     "name": "stdout",
     "output_type": "stream",
     "text": [
      "pic process is done!\n",
      "meta_weight is 0.0\n",
      "pic_weight is 1.0\n",
      "Fold 9 results\n"
     ]
    },
    {
     "data": {
      "text/html": [
       "<table border=\"1\" class=\"dataframe\">\n",
       "  <thead>\n",
       "    <tr style=\"text-align: left;\">\n",
       "      <th>epoch</th>\n",
       "      <th>train_loss</th>\n",
       "      <th>valid_loss</th>\n",
       "      <th>petfinder_rmse</th>\n",
       "      <th>time</th>\n",
       "    </tr>\n",
       "  </thead>\n",
       "  <tbody>\n",
       "    <tr>\n",
       "      <td>0</td>\n",
       "      <td>21.989258</td>\n",
       "      <td>20.598303</td>\n",
       "      <td>20.598303</td>\n",
       "      <td>00:04</td>\n",
       "    </tr>\n",
       "    <tr>\n",
       "      <td>1</td>\n",
       "      <td>21.460163</td>\n",
       "      <td>20.560114</td>\n",
       "      <td>20.560114</td>\n",
       "      <td>00:04</td>\n",
       "    </tr>\n",
       "    <tr>\n",
       "      <td>2</td>\n",
       "      <td>21.236961</td>\n",
       "      <td>20.458952</td>\n",
       "      <td>20.458952</td>\n",
       "      <td>00:04</td>\n",
       "    </tr>\n",
       "    <tr>\n",
       "      <td>3</td>\n",
       "      <td>20.886137</td>\n",
       "      <td>20.895985</td>\n",
       "      <td>20.895985</td>\n",
       "      <td>00:04</td>\n",
       "    </tr>\n",
       "    <tr>\n",
       "      <td>4</td>\n",
       "      <td>20.677118</td>\n",
       "      <td>20.455162</td>\n",
       "      <td>20.455162</td>\n",
       "      <td>00:04</td>\n",
       "    </tr>\n",
       "    <tr>\n",
       "      <td>5</td>\n",
       "      <td>20.564545</td>\n",
       "      <td>20.476719</td>\n",
       "      <td>20.476719</td>\n",
       "      <td>00:04</td>\n",
       "    </tr>\n",
       "    <tr>\n",
       "      <td>6</td>\n",
       "      <td>20.498201</td>\n",
       "      <td>20.473282</td>\n",
       "      <td>20.473282</td>\n",
       "      <td>00:04</td>\n",
       "    </tr>\n",
       "  </tbody>\n",
       "</table>"
      ],
      "text/plain": [
       "<IPython.core.display.HTML object>"
      ]
     },
     "metadata": {},
     "output_type": "display_data"
    },
    {
     "name": "stderr",
     "output_type": "stream",
     "text": [
      "/opt/conda/lib/python3.7/site-packages/torch/nn/functional.py:1805: UserWarning: nn.functional.sigmoid is deprecated. Use torch.sigmoid instead.\n",
      "  warnings.warn(\"nn.functional.sigmoid is deprecated. Use torch.sigmoid instead.\")\n",
      "/opt/conda/lib/python3.7/site-packages/ipykernel_launcher.py:2: UserWarning: Using a target size (torch.Size([40, 1])) that is different to the input size (torch.Size([40])). This will likely lead to incorrect results due to broadcasting. Please ensure they have the same size.\n",
      "  \n",
      "/opt/conda/lib/python3.7/site-packages/ipykernel_launcher.py:2: UserWarning: Using a target size (torch.Size([22, 1])) that is different to the input size (torch.Size([40])). This will likely lead to incorrect results due to broadcasting. Please ensure they have the same size.\n",
      "  \n"
     ]
    },
    {
     "name": "stdout",
     "output_type": "stream",
     "text": [
      "No improvement since epoch 4: early stopping\n"
     ]
    },
    {
     "data": {
      "text/html": [],
      "text/plain": [
       "<IPython.core.display.HTML object>"
      ]
     },
     "metadata": {},
     "output_type": "display_data"
    },
    {
     "name": "stdout",
     "output_type": "stream",
     "text": [
      "meta process is done!\n"
     ]
    },
    {
     "data": {
      "text/html": [
       "<table border=\"1\" class=\"dataframe\">\n",
       "  <thead>\n",
       "    <tr style=\"text-align: left;\">\n",
       "      <th>epoch</th>\n",
       "      <th>train_loss</th>\n",
       "      <th>valid_loss</th>\n",
       "      <th>petfinder_rmse</th>\n",
       "      <th>time</th>\n",
       "    </tr>\n",
       "  </thead>\n",
       "  <tbody>\n",
       "    <tr>\n",
       "      <td>0</td>\n",
       "      <td>0.657349</td>\n",
       "      <td>0.644665</td>\n",
       "      <td>18.219194</td>\n",
       "      <td>06:57</td>\n",
       "    </tr>\n",
       "    <tr>\n",
       "      <td>1</td>\n",
       "      <td>0.649842</td>\n",
       "      <td>0.639737</td>\n",
       "      <td>17.579626</td>\n",
       "      <td>06:57</td>\n",
       "    </tr>\n",
       "    <tr>\n",
       "      <td>2</td>\n",
       "      <td>0.644491</td>\n",
       "      <td>0.638907</td>\n",
       "      <td>17.471712</td>\n",
       "      <td>06:57</td>\n",
       "    </tr>\n",
       "    <tr>\n",
       "      <td>3</td>\n",
       "      <td>0.641367</td>\n",
       "      <td>0.636888</td>\n",
       "      <td>17.207386</td>\n",
       "      <td>06:58</td>\n",
       "    </tr>\n",
       "    <tr>\n",
       "      <td>4</td>\n",
       "      <td>0.640067</td>\n",
       "      <td>0.636205</td>\n",
       "      <td>17.114193</td>\n",
       "      <td>06:57</td>\n",
       "    </tr>\n",
       "  </tbody>\n",
       "</table>"
      ],
      "text/plain": [
       "<IPython.core.display.HTML object>"
      ]
     },
     "metadata": {},
     "output_type": "display_data"
    },
    {
     "name": "stderr",
     "output_type": "stream",
     "text": [
      "/opt/conda/lib/python3.7/site-packages/torch/nn/functional.py:1805: UserWarning: nn.functional.sigmoid is deprecated. Use torch.sigmoid instead.\n",
      "  warnings.warn(\"nn.functional.sigmoid is deprecated. Use torch.sigmoid instead.\")\n"
     ]
    },
    {
     "name": "stdout",
     "output_type": "stream",
     "text": [
      "Better model found at epoch 0 with valid_loss value: 0.6446645259857178.\n",
      "Better model found at epoch 1 with valid_loss value: 0.6397374272346497.\n",
      "Better model found at epoch 2 with valid_loss value: 0.6389074325561523.\n",
      "Better model found at epoch 3 with valid_loss value: 0.6368876099586487.\n",
      "Better model found at epoch 4 with valid_loss value: 0.636204719543457.\n"
     ]
    },
    {
     "data": {
      "text/html": [
       "\n",
       "    <div>\n",
       "        <style>\n",
       "            /* Turns off some styling */\n",
       "            progress {\n",
       "                /* gets rid of default border in Firefox and Opera. */\n",
       "                border: none;\n",
       "                /* Needs to be in here for Safari polyfill so background images work as expected. */\n",
       "                background-size: auto;\n",
       "            }\n",
       "            .progress-bar-interrupted, .progress-bar-interrupted::-webkit-progress-bar {\n",
       "                background: #F44336;\n",
       "            }\n",
       "        </style>\n",
       "      <progress value='0' class='' max='5' style='width:300px; height:20px; vertical-align: middle;'></progress>\n",
       "      \n",
       "    </div>\n",
       "    \n"
      ],
      "text/plain": [
       "<IPython.core.display.HTML object>"
      ]
     },
     "metadata": {},
     "output_type": "display_data"
    },
    {
     "data": {
      "text/html": [],
      "text/plain": [
       "<IPython.core.display.HTML object>"
      ]
     },
     "metadata": {},
     "output_type": "display_data"
    },
    {
     "name": "stdout",
     "output_type": "stream",
     "text": [
      "pic process is done!\n",
      "meta_weight is 6.226743425941095e-05\n",
      "pic_weight is 0.9999945759773254\n"
     ]
    },
    {
     "data": {
      "image/png": "[encoded data removed]",
      "text/plain": [
       "<Figure size 432x288 with 1 Axes>"
      ]
     },
     "metadata": {
      "needs_background": "light"
     },
     "output_type": "display_data"
    }
   ],
   "source": [
    "import gc\n",
    "all_preds = []\n",
    "\n",
    "for i in range(N_FOLDS):\n",
    "\n",
    "    print(f'Fold {i} results')\n",
    "    \n",
    "    learn_meta = get_learner_meta(fold_num=i) # 先弄一个meta模型\n",
    "\n",
    "#    learn.fit_one_cycle(5, 2e-5, cbs=[SaveModelCallback(), EarlyStoppingCallback(monitor='petfinder_rmse', comp=np.less, patience=2)]) \n",
    "    learn_meta.fit_one_cycle(10, cbs=[EarlyStoppingCallback(monitor='petfinder_rmse', comp=np.less, patience=2)]) \n",
    "    \n",
    "    val_mse_meta = learn_meta.recorder.values[-1][2]\n",
    "    # 第二个参数是最大的学习率\n",
    "    learn_meta.recorder.plot_loss()\n",
    "\n",
    "    #learn = learn.to_fp32()\n",
    "    \n",
    "    #learn.export(f'model_fold_{i}.pkl')\n",
    "    #learn.save(f'model_fold_{i}.pkl')\n",
    "    \n",
    "    dls_meta = TabularDataLoaders.from_df(train_df, \n",
    "                                      valid_col='is_valid',\n",
    "                                      path = '../input/petfinder-pawpularity-score',\n",
    "                                      y_names=\"norm_score\", \n",
    "                                      #valid_pct=0.2,\n",
    "                                      seed=seed, #seed\n",
    "                                      bs=BATCH_SIZE, \n",
    "                                      num_workers=8, \n",
    "                                      y_block=RegressionBlock,\n",
    "                                      cont_names = ['Subject Focus', 'Eyes', 'Face', 'Near', 'Action', 'Accessory',\\\n",
    "                                                    'Group', 'Collage', 'Human', 'Occlusion', 'Info', 'Blur']\n",
    "                                    )\n",
    "                                     \n",
    "    \n",
    "    test_dl_meta = dls_meta.test_dl(test_df)\n",
    "    \n",
    "    preds_meta, _ = learn_meta.get_preds(dl=test_dl_meta)\n",
    "    \n",
    "    \n",
    "    \n",
    "    del learn_meta\n",
    "\n",
    "    torch.cuda.empty_cache()\n",
    "\n",
    "    gc.collect() # meta弄完了\n",
    "    \n",
    "    print('meta process is done!')\n",
    "    \n",
    "    learn_pic = get_learner_pic(fold_num=i)\n",
    "\n",
    "    learn_pic.fit_one_cycle(5, 2e-5, cbs=[SaveModelCallback(), EarlyStoppingCallback(monitor='petfinder_rmse', comp=np.less, patience=2)]) \n",
    "    \n",
    "    val_mse_pic = learn_pic.recorder.values[-1][2]\n",
    "    # *************************************************************************************** was 5\n",
    "    # 第二个参数是最大的学习率\n",
    "    learn_pic.recorder.plot_loss()\n",
    "\n",
    "    #learn = learn.to_fp32()\n",
    "    \n",
    "    #learn.export(f'model_fold_{i}.pkl')\n",
    "    #learn.save(f'model_fold_{i}.pkl')\n",
    "    \n",
    "    dls_pic = ImageDataLoaders.from_df(train_df, #pass in train DataFrame\n",
    "                               #valid_pct=0.2, #80-20 train-validation random split\n",
    "                               seed=seed, #seed\n",
    "                               fn_col='path', #filename/path is in the second column of the DataFrame\n",
    "                               label_col='norm_score', #label is in the first column of the DataFrame\n",
    "                               y_block=RegressionBlock, #The type of target\n",
    "                               bs=BATCH_SIZE, #pass in batch size\n",
    "                               num_workers=8,\n",
    "                               item_tfms=Resize(224), #pass in item_tfms\n",
    "                               #batch_tfms=setup_aug_tfms([RandomErasing(),  Rotate(),   Flip()]))    \n",
    "                                batch_tfms=setup_aug_tfms([RandomErasing(),  Rotate(),  Brightness(), Flip(), Contrast(), Saturation()])) \n",
    "    \n",
    "    test_dl_pic = dls_pic.test_dl(test_df)\n",
    "    \n",
    "    preds_pic, _ = learn_pic.tta(dl=test_dl_pic, n=5, beta=0)\n",
    "    \n",
    "    \n",
    "    \n",
    "    del learn_pic\n",
    "\n",
    "    torch.cuda.empty_cache()\n",
    "\n",
    "    gc.collect()\n",
    "    print('pic process is done!')\n",
    "    # 通过pic和meta计算权重\n",
    "    meta_weight = torch.nn.functional.relu_(torch.tensor(20.5-val_mse_meta))**2\n",
    "    pic_weight = torch.nn.functional.relu_(torch.tensor(20.5-val_mse_pic))**2\n",
    "    # 归一化\n",
    "    meta_weight = meta_weight/(meta_weight+pic_weight)\n",
    "    pic_weight = pic_weight/(meta_weight+pic_weight)\n",
    "    print('meta_weight is ' + str(meta_weight.item()))\n",
    "    print('pic_weight is ' + str(pic_weight.item()))\n",
    "    all_preds.append(preds_meta*meta_weight+preds_pic*pic_weight)"
   ]
  },
  {
   "cell_type": "code",
   "execution_count": 20,
   "id": "7329ea7c",
   "metadata": {
    "execution": {
     "iopub.execute_input": "2021-12-25T07:24:22.010635Z",
     "iopub.status.busy": "2021-12-25T07:24:22.009848Z",
     "iopub.status.idle": "2021-12-25T07:24:22.026961Z",
     "shell.execute_reply": "2021-12-25T07:24:22.026496Z"
    },
    "papermill": {
     "duration": 0.086058,
     "end_time": "2021-12-25T07:24:22.027073",
     "exception": false,
     "start_time": "2021-12-25T07:24:21.941015",
     "status": "completed"
    },
    "tags": []
   },
   "outputs": [
    {
     "data": {
      "text/plain": [
       "[tensor([[0.4463],\n",
       "         [0.4431],\n",
       "         [0.4452],\n",
       "         [0.4394],\n",
       "         [0.4389],\n",
       "         [0.4400],\n",
       "         [0.4519],\n",
       "         [0.4482]]),\n",
       " tensor([[0.4126],\n",
       "         [0.4200],\n",
       "         [0.4184],\n",
       "         [0.4233],\n",
       "         [0.4263],\n",
       "         [0.4187],\n",
       "         [0.4260],\n",
       "         [0.4192]]),\n",
       " tensor([[0.4500],\n",
       "         [0.4363],\n",
       "         [0.4439],\n",
       "         [0.4385],\n",
       "         [0.4418],\n",
       "         [0.4344],\n",
       "         [0.4448],\n",
       "         [0.4378]]),\n",
       " tensor([[0.4434],\n",
       "         [0.4413],\n",
       "         [0.4379],\n",
       "         [0.4457],\n",
       "         [0.4441],\n",
       "         [0.4440],\n",
       "         [0.4543],\n",
       "         [0.4496]]),\n",
       " tensor([[0.4868],\n",
       "         [0.4839],\n",
       "         [0.4890],\n",
       "         [0.4883],\n",
       "         [0.4895],\n",
       "         [0.4872],\n",
       "         [0.4879],\n",
       "         [0.4846]]),\n",
       " tensor([[0.4681],\n",
       "         [0.4818],\n",
       "         [0.4726],\n",
       "         [0.4812],\n",
       "         [0.4689],\n",
       "         [0.4783],\n",
       "         [0.4775],\n",
       "         [0.4779]]),\n",
       " tensor([[0.4448],\n",
       "         [0.4417],\n",
       "         [0.4462],\n",
       "         [0.4470],\n",
       "         [0.4497],\n",
       "         [0.4504],\n",
       "         [0.4522],\n",
       "         [0.4353]]),\n",
       " tensor([[0.4436],\n",
       "         [0.4436],\n",
       "         [0.4435],\n",
       "         [0.4535],\n",
       "         [0.4435],\n",
       "         [0.4540],\n",
       "         [0.4473],\n",
       "         [0.4360]]),\n",
       " tensor([[0.4290],\n",
       "         [0.4291],\n",
       "         [0.4330],\n",
       "         [0.4362],\n",
       "         [0.4363],\n",
       "         [0.4363],\n",
       "         [0.4440],\n",
       "         [0.4348]]),\n",
       " tensor([[0.4457],\n",
       "         [0.4422],\n",
       "         [0.4509],\n",
       "         [0.4514],\n",
       "         [0.4549],\n",
       "         [0.4572],\n",
       "         [0.4559],\n",
       "         [0.4513]])]"
      ]
     },
     "execution_count": 20,
     "metadata": {},
     "output_type": "execute_result"
    }
   ],
   "source": [
    "all_preds"
   ]
  },
  {
   "cell_type": "code",
   "execution_count": 21,
   "id": "1688b231",
   "metadata": {
    "execution": {
     "iopub.execute_input": "2021-12-25T07:24:22.164969Z",
     "iopub.status.busy": "2021-12-25T07:24:22.164343Z",
     "iopub.status.idle": "2021-12-25T07:24:22.181414Z",
     "shell.execute_reply": "2021-12-25T07:24:22.180993Z"
    },
    "papermill": {
     "duration": 0.08772,
     "end_time": "2021-12-25T07:24:22.181528",
     "exception": false,
     "start_time": "2021-12-25T07:24:22.093808",
     "status": "completed"
    },
    "tags": []
   },
   "outputs": [],
   "source": [
    "sample_df = pd.read_csv(dataset_path/'sample_submission.csv')\n",
    "preds = np.mean(np.stack(all_preds), axis=0)\n",
    "sample_df['Pawpularity'] = preds*100\n",
    "sample_df.to_csv('submission.csv',index=False)"
   ]
  }
 ],
 "metadata": {
  "kernelspec": {
   "display_name": "Python 3",
   "language": "python",
   "name": "python3"
  },
  "language_info": {
   "codemirror_mode": {
    "name": "ipython",
    "version": 3
   },
   "file_extension": ".py",
   "mimetype": "text/x-python",
   "name": "python",
   "nbconvert_exporter": "python",
   "pygments_lexer": "ipython3",
   "version": "3.7.12"
  },
  "papermill": {
   "default_parameters": {},
   "duration": 21006.703735,
   "end_time": "2021-12-25T07:24:24.497060",
   "environment_variables": {},
   "exception": null,
   "input_path": "__notebook__.ipynb",
   "output_path": "__notebook__.ipynb",
   "parameters": {},
   "start_time": "2021-12-25T01:34:17.793325",
   "version": "2.3.3"
  }
 },
 "nbformat": 4,
 "nbformat_minor": 5
}
